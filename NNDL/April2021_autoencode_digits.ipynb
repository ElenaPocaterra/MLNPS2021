{
  "nbformat": 4,
  "nbformat_minor": 0,
  "metadata": {
    "colab": {
      "name": "April2021 autoencode_digits.ipynb",
      "provenance": [],
      "include_colab_link": true
    },
    "kernelspec": {
      "name": "python3",
      "display_name": "Python 3"
    },
    "accelerator": "GPU"
  },
  "cells": [
    {
      "cell_type": "markdown",
      "metadata": {
        "id": "view-in-github",
        "colab_type": "text"
      },
      "source": [
        "<a href=\"https://colab.research.google.com/github/ElenaPocaterra/MLNPS2021/blob/main/NNDL/April2021_autoencode_digits.ipynb\" target=\"_parent\"><img src=\"https://colab.research.google.com/assets/colab-badge.svg\" alt=\"Open In Colab\"/></a>"
      ]
    },
    {
      "cell_type": "code",
      "metadata": {
        "id": "d4Hqug0lfaG9",
        "colab": {
          "base_uri": "https://localhost:8080/"
        },
        "outputId": "5fb636a6-8a9b-432c-fe14-c0ad7f719f59"
      },
      "source": [
        "import keras\n",
        "from keras.datasets import mnist\n",
        "from keras.models import Sequential\n",
        "from keras.layers import Dense#, Dropout, Flatten\n",
        "from keras.layers import Conv2D, MaxPooling2D\n",
        "from keras import backend as K\n",
        "import glob\n",
        "import pylab as pl\n",
        "from PIL import Image\n",
        "\n",
        "%pylab inline\n"
      ],
      "execution_count": 2,
      "outputs": [
        {
          "output_type": "stream",
          "text": [
            "Populating the interactive namespace from numpy and matplotlib\n"
          ],
          "name": "stdout"
        }
      ]
    },
    {
      "cell_type": "markdown",
      "metadata": {
        "id": "u8mW27gnf7U4"
      },
      "source": [
        "# 1. change kernel to GPU \n",
        "go to runtime -> change runtime type -> GPU"
      ]
    },
    {
      "cell_type": "markdown",
      "metadata": {
        "id": "fPgi-4gMgRTo"
      },
      "source": [
        "# digits first"
      ]
    },
    {
      "cell_type": "code",
      "metadata": {
        "id": "u3UsLpN7gRJy",
        "colab": {
          "base_uri": "https://localhost:8080/",
          "height": 335
        },
        "outputId": "b637ea61-63c7-45c2-e553-26b140113b42"
      },
      "source": [
        "from keras.datasets import mnist\n",
        "(x_train, _), (x_test, _) = mnist.load_data()\n",
        "\n",
        "img_rows, img_cols = 28, 28\n",
        "pl.imshow(x_train[0])\n",
        "pl.axis('off')\n",
        "intialshape = x_train[0].shape\n",
        "ndim = np.prod(x_train[0].shape)\n",
        "print(intialshape)\n",
        "print(ndim)\n",
        "x_train.shape"
      ],
      "execution_count": 3,
      "outputs": [
        {
          "output_type": "stream",
          "text": [
            "Downloading data from https://storage.googleapis.com/tensorflow/tf-keras-datasets/mnist.npz\n",
            "11493376/11490434 [==============================] - 0s 0us/step\n",
            "(28, 28)\n",
            "784\n"
          ],
          "name": "stdout"
        },
        {
          "output_type": "execute_result",
          "data": {
            "text/plain": [
              "(60000, 28, 28)"
            ]
          },
          "metadata": {
            "tags": []
          },
          "execution_count": 3
        },
        {
          "output_type": "display_data",
          "data": {
            "image/png": "[encoded data removed]",
            "text/plain": [
              "<Figure size 432x288 with 1 Axes>"
            ]
          },
          "metadata": {
            "tags": [],
            "needs_background": "light"
          }
        }
      ]
    },
    {
      "cell_type": "code",
      "metadata": {
        "id": "1kgzSExkgQ9Q",
        "colab": {
          "base_uri": "https://localhost:8080/"
        },
        "outputId": "374c7e4a-c3cd-400f-cc95-f5184fb9cbf6"
      },
      "source": [
        "x_train.dtype, x_train.max(), x_train.min()\n"
      ],
      "execution_count": 4,
      "outputs": [
        {
          "output_type": "execute_result",
          "data": {
            "text/plain": [
              "(dtype('uint8'), 255, 0)"
            ]
          },
          "metadata": {
            "tags": []
          },
          "execution_count": 4
        }
      ]
    },
    {
      "cell_type": "code",
      "metadata": {
        "colab": {
          "base_uri": "https://localhost:8080/",
          "height": 282
        },
        "id": "BsF_Zzafqntr",
        "outputId": "21a9e07d-34e3-4da0-f967-f6bcebe89b8b"
      },
      "source": [
        "pl.imshow(x_test[0])"
      ],
      "execution_count": 5,
      "outputs": [
        {
          "output_type": "execute_result",
          "data": {
            "text/plain": [
              "<matplotlib.image.AxesImage at 0x7f3b3545edd0>"
            ]
          },
          "metadata": {
            "tags": []
          },
          "execution_count": 5
        },
        {
          "output_type": "display_data",
          "data": {
            "image/png": "[encoded data removed]",
            "text/plain": [
              "<Figure size 432x288 with 1 Axes>"
            ]
          },
          "metadata": {
            "tags": [],
            "needs_background": "light"
          }
        }
      ]
    },
    {
      "cell_type": "code",
      "metadata": {
        "id": "9KhWi6TGhdv1",
        "colab": {
          "base_uri": "https://localhost:8080/"
        },
        "outputId": "52754b16-8d59-40ff-9ee6-7dcf7294c314"
      },
      "source": [
        "x_train = (x_train.astype(float) / 255).reshape(len(x_train), ndim)\n",
        "x_test = (x_test.astype(float) / 255).reshape(len(x_test), ndim)\n",
        "x_train.shape, x_test.shape"
      ],
      "execution_count": 6,
      "outputs": [
        {
          "output_type": "execute_result",
          "data": {
            "text/plain": [
              "((60000, 784), (10000, 784))"
            ]
          },
          "metadata": {
            "tags": []
          },
          "execution_count": 6
        }
      ]
    },
    {
      "cell_type": "markdown",
      "metadata": {
        "id": "huWbhFyJK4Vn"
      },
      "source": [
        "# create a model"
      ]
    },
    {
      "cell_type": "code",
      "metadata": {
        "id": "4zR7X6JuK7WW"
      },
      "source": [
        "keras.models?"
      ],
      "execution_count": 7,
      "outputs": []
    },
    {
      "cell_type": "code",
      "metadata": {
        "id": "i_46wAeZBl8f"
      },
      "source": [
        "Dense?"
      ],
      "execution_count": 8,
      "outputs": []
    },
    {
      "cell_type": "code",
      "metadata": {
        "id": "eheFp_InJiao",
        "colab": {
          "base_uri": "https://localhost:8080/",
          "height": 105
        },
        "outputId": "cc0e4e19-ba75-4679-eeab-87c6b10020b8"
      },
      "source": [
        "model_digits64 = Sequential()\n",
        "## encoder\n",
        "# input layer and the output size\n",
        "model_digits64.add(Dense(128, activation='relu',batch_size = None, input_dim=784)) #input_dim per importare immagine appiattita(1D). input_shape per importare immagine 2D.\n",
        "#compression layer\n",
        "model_digits64.add(Dense(64, activation='relu'))\n",
        "## deencoder\n",
        "#decompression layer, same size as in the encoder\n",
        "model_digits64.add(Dense(128, activation='relu'))\n",
        "#output layer, same size as input\n",
        "model_digits64.add(Dense(ndim, activation='linear'))\n",
        "\n",
        "\n",
        "#alternative syntax\n",
        "\"\"\"\n",
        "encoded = Dense(encoding_dim, activation='relu')(input_img)\n",
        "# \"decoded\" is the lossy reconstruction of the input\n",
        "decoded = Dense(784, activation='sigmoid')(encoded)\n",
        "\n",
        "autoencoder = Model(input_img, decoded)\n",
        "\n",
        "encoder = Model(input_img, encoded)\n",
        "\n",
        "# create a placeholder for an encoded (32-dimensional) input\n",
        "encoded_input = Input(shape=(encoding_dim,))\n",
        "# retrieve the last layer of the autoencoder model\n",
        "decoder_layer = autoencoder.layers[-1]\n",
        "# create the decoder model\n",
        "decoder = Model(encoded_input, decoder_layer(encoded_input))\n",
        "\"\"\""
      ],
      "execution_count": 9,
      "outputs": [
        {
          "output_type": "execute_result",
          "data": {
            "application/vnd.google.colaboratory.intrinsic+json": {
              "type": "string"
            },
            "text/plain": [
              "'\\nencoded = Dense(encoding_dim, activation=\\'relu\\')(input_img)\\n# \"decoded\" is the lossy reconstruction of the input\\ndecoded = Dense(784, activation=\\'sigmoid\\')(encoded)\\n\\nautoencoder = Model(input_img, decoded)\\n\\nencoder = Model(input_img, encoded)\\n\\n# create a placeholder for an encoded (32-dimensional) input\\nencoded_input = Input(shape=(encoding_dim,))\\n# retrieve the last layer of the autoencoder model\\ndecoder_layer = autoencoder.layers[-1]\\n# create the decoder model\\ndecoder = Model(encoded_input, decoder_layer(encoded_input))\\n'"
            ]
          },
          "metadata": {
            "tags": []
          },
          "execution_count": 9
        }
      ]
    },
    {
      "cell_type": "code",
      "metadata": {
        "colab": {
          "base_uri": "https://localhost:8080/"
        },
        "id": "oLYE3L94GAN0",
        "outputId": "794f803b-bdb6-46d1-bf2f-0cb7b1e7b9e5"
      },
      "source": [
        "# choose the optimizer(adam) and loss (L2) appropriately!:\n",
        "\n",
        "#need to choose the loss function, metric, optimization scheme\n",
        "model_digits64.compile(optimizer='adam', loss='mean_squared_error')\n",
        " \n",
        "#need to learn what to look for - always plot the loss function!\n",
        "history64 = model_digits64.fit(x_train, x_train, validation_data=(x_test, x_test),\n",
        "                     epochs=100, batch_size=100, verbose=1) #history salva per ogni epoca la rispettiva loss\n",
        "#note that the model allows to give a validation test, \n",
        "#this is for a 3fold cross valiation: train-validate-test \n"
      ],
      "execution_count": 19,
      "outputs": [
        {
          "output_type": "stream",
          "text": [
            "Epoch 1/100\n",
            "600/600 [==============================] - 2s 2ms/step - loss: 0.0117 - val_loss: 0.0110\n",
            "Epoch 2/100\n",
            "600/600 [==============================] - 1s 2ms/step - loss: 0.0113 - val_loss: 0.0110\n",
            "Epoch 3/100\n",
            "600/600 [==============================] - 1s 2ms/step - loss: 0.0113 - val_loss: 0.0110\n",
            "Epoch 4/100\n",
            "600/600 [==============================] - 1s 2ms/step - loss: 0.0113 - val_loss: 0.0109\n",
            "Epoch 5/100\n",
            "600/600 [==============================] - 1s 2ms/step - loss: 0.0112 - val_loss: 0.0109\n",
            "Epoch 6/100\n",
            "600/600 [==============================] - 1s 2ms/step - loss: 0.0112 - val_loss: 0.0109\n",
            "Epoch 7/100\n",
            "600/600 [==============================] - 1s 2ms/step - loss: 0.0111 - val_loss: 0.0108\n",
            "Epoch 8/100\n",
            "600/600 [==============================] - 1s 2ms/step - loss: 0.0112 - val_loss: 0.0108\n",
            "Epoch 9/100\n",
            "600/600 [==============================] - 1s 2ms/step - loss: 0.0111 - val_loss: 0.0108\n",
            "Epoch 10/100\n",
            "600/600 [==============================] - 1s 2ms/step - loss: 0.0111 - val_loss: 0.0107\n",
            "Epoch 11/100\n",
            "600/600 [==============================] - 1s 2ms/step - loss: 0.0110 - val_loss: 0.0108\n",
            "Epoch 12/100\n",
            "600/600 [==============================] - 1s 2ms/step - loss: 0.0110 - val_loss: 0.0107\n",
            "Epoch 13/100\n",
            "600/600 [==============================] - 1s 2ms/step - loss: 0.0109 - val_loss: 0.0107\n",
            "Epoch 14/100\n",
            "600/600 [==============================] - 1s 2ms/step - loss: 0.0109 - val_loss: 0.0106\n",
            "Epoch 15/100\n",
            "600/600 [==============================] - 1s 2ms/step - loss: 0.0109 - val_loss: 0.0106\n",
            "Epoch 16/100\n",
            "600/600 [==============================] - 1s 2ms/step - loss: 0.0108 - val_loss: 0.0105\n",
            "Epoch 17/100\n",
            "600/600 [==============================] - 1s 2ms/step - loss: 0.0108 - val_loss: 0.0105\n",
            "Epoch 18/100\n",
            "600/600 [==============================] - 1s 2ms/step - loss: 0.0108 - val_loss: 0.0105\n",
            "Epoch 19/100\n",
            "600/600 [==============================] - 1s 2ms/step - loss: 0.0108 - val_loss: 0.0105\n",
            "Epoch 20/100\n",
            "600/600 [==============================] - 1s 2ms/step - loss: 0.0107 - val_loss: 0.0105\n",
            "Epoch 21/100\n",
            "600/600 [==============================] - 1s 2ms/step - loss: 0.0107 - val_loss: 0.0104\n",
            "Epoch 22/100\n",
            "600/600 [==============================] - 1s 2ms/step - loss: 0.0107 - val_loss: 0.0104\n",
            "Epoch 23/100\n",
            "600/600 [==============================] - 1s 2ms/step - loss: 0.0107 - val_loss: 0.0104\n",
            "Epoch 24/100\n",
            "600/600 [==============================] - 1s 2ms/step - loss: 0.0107 - val_loss: 0.0104\n",
            "Epoch 25/100\n",
            "600/600 [==============================] - 1s 2ms/step - loss: 0.0106 - val_loss: 0.0104\n",
            "Epoch 26/100\n",
            "600/600 [==============================] - 1s 2ms/step - loss: 0.0106 - val_loss: 0.0103\n",
            "Epoch 27/100\n",
            "600/600 [==============================] - 1s 2ms/step - loss: 0.0106 - val_loss: 0.0103\n",
            "Epoch 28/100\n",
            "600/600 [==============================] - 1s 2ms/step - loss: 0.0106 - val_loss: 0.0103\n",
            "Epoch 29/100\n",
            "600/600 [==============================] - 1s 2ms/step - loss: 0.0105 - val_loss: 0.0103\n",
            "Epoch 30/100\n",
            "600/600 [==============================] - 1s 2ms/step - loss: 0.0105 - val_loss: 0.0103\n",
            "Epoch 31/100\n",
            "600/600 [==============================] - 1s 2ms/step - loss: 0.0105 - val_loss: 0.0103\n",
            "Epoch 32/100\n",
            "600/600 [==============================] - 1s 2ms/step - loss: 0.0105 - val_loss: 0.0102\n",
            "Epoch 33/100\n",
            "600/600 [==============================] - 1s 2ms/step - loss: 0.0105 - val_loss: 0.0103\n",
            "Epoch 34/100\n",
            "600/600 [==============================] - 1s 2ms/step - loss: 0.0105 - val_loss: 0.0102\n",
            "Epoch 35/100\n",
            "600/600 [==============================] - 1s 2ms/step - loss: 0.0104 - val_loss: 0.0102\n",
            "Epoch 36/100\n",
            "600/600 [==============================] - 1s 2ms/step - loss: 0.0104 - val_loss: 0.0102\n",
            "Epoch 37/100\n",
            "600/600 [==============================] - 1s 2ms/step - loss: 0.0104 - val_loss: 0.0102\n",
            "Epoch 38/100\n",
            "600/600 [==============================] - 1s 2ms/step - loss: 0.0104 - val_loss: 0.0102\n",
            "Epoch 39/100\n",
            "600/600 [==============================] - 1s 2ms/step - loss: 0.0104 - val_loss: 0.0102\n",
            "Epoch 40/100\n",
            "600/600 [==============================] - 1s 2ms/step - loss: 0.0104 - val_loss: 0.0102\n",
            "Epoch 41/100\n",
            "600/600 [==============================] - 1s 2ms/step - loss: 0.0104 - val_loss: 0.0102\n",
            "Epoch 42/100\n",
            "600/600 [==============================] - 1s 2ms/step - loss: 0.0104 - val_loss: 0.0101\n",
            "Epoch 43/100\n",
            "600/600 [==============================] - 1s 2ms/step - loss: 0.0104 - val_loss: 0.0101\n",
            "Epoch 44/100\n",
            "600/600 [==============================] - 1s 2ms/step - loss: 0.0104 - val_loss: 0.0101\n",
            "Epoch 45/100\n",
            "600/600 [==============================] - 1s 2ms/step - loss: 0.0103 - val_loss: 0.0101\n",
            "Epoch 46/100\n",
            "600/600 [==============================] - 1s 2ms/step - loss: 0.0104 - val_loss: 0.0101\n",
            "Epoch 47/100\n",
            "600/600 [==============================] - 1s 2ms/step - loss: 0.0103 - val_loss: 0.0101\n",
            "Epoch 48/100\n",
            "600/600 [==============================] - 1s 2ms/step - loss: 0.0103 - val_loss: 0.0101\n",
            "Epoch 49/100\n",
            "600/600 [==============================] - 1s 2ms/step - loss: 0.0103 - val_loss: 0.0101\n",
            "Epoch 50/100\n",
            "600/600 [==============================] - 1s 2ms/step - loss: 0.0103 - val_loss: 0.0101\n",
            "Epoch 51/100\n",
            "600/600 [==============================] - 1s 2ms/step - loss: 0.0103 - val_loss: 0.0100\n",
            "Epoch 52/100\n",
            "600/600 [==============================] - 1s 2ms/step - loss: 0.0103 - val_loss: 0.0101\n",
            "Epoch 53/100\n",
            "600/600 [==============================] - 1s 2ms/step - loss: 0.0103 - val_loss: 0.0100\n",
            "Epoch 54/100\n",
            "600/600 [==============================] - 1s 2ms/step - loss: 0.0103 - val_loss: 0.0101\n",
            "Epoch 55/100\n",
            "600/600 [==============================] - 1s 2ms/step - loss: 0.0103 - val_loss: 0.0101\n",
            "Epoch 56/100\n",
            "600/600 [==============================] - 1s 2ms/step - loss: 0.0103 - val_loss: 0.0100\n",
            "Epoch 57/100\n",
            "600/600 [==============================] - 1s 2ms/step - loss: 0.0103 - val_loss: 0.0100\n",
            "Epoch 58/100\n",
            "600/600 [==============================] - 1s 2ms/step - loss: 0.0102 - val_loss: 0.0100\n",
            "Epoch 59/100\n",
            "600/600 [==============================] - 1s 2ms/step - loss: 0.0103 - val_loss: 0.0100\n",
            "Epoch 60/100\n",
            "600/600 [==============================] - 1s 2ms/step - loss: 0.0103 - val_loss: 0.0100\n",
            "Epoch 61/100\n",
            "600/600 [==============================] - 1s 2ms/step - loss: 0.0102 - val_loss: 0.0100\n",
            "Epoch 62/100\n",
            "600/600 [==============================] - 1s 2ms/step - loss: 0.0102 - val_loss: 0.0100\n",
            "Epoch 63/100\n",
            "600/600 [==============================] - 1s 2ms/step - loss: 0.0103 - val_loss: 0.0100\n",
            "Epoch 64/100\n",
            "600/600 [==============================] - 1s 2ms/step - loss: 0.0102 - val_loss: 0.0100\n",
            "Epoch 65/100\n",
            "600/600 [==============================] - 1s 2ms/step - loss: 0.0102 - val_loss: 0.0100\n",
            "Epoch 66/100\n",
            "600/600 [==============================] - 1s 2ms/step - loss: 0.0102 - val_loss: 0.0100\n",
            "Epoch 67/100\n",
            "600/600 [==============================] - 1s 2ms/step - loss: 0.0102 - val_loss: 0.0100\n",
            "Epoch 68/100\n",
            "600/600 [==============================] - 1s 2ms/step - loss: 0.0102 - val_loss: 0.0099\n",
            "Epoch 69/100\n",
            "600/600 [==============================] - 1s 2ms/step - loss: 0.0102 - val_loss: 0.0100\n",
            "Epoch 70/100\n",
            "600/600 [==============================] - 1s 2ms/step - loss: 0.0102 - val_loss: 0.0100\n",
            "Epoch 71/100\n",
            "600/600 [==============================] - 1s 2ms/step - loss: 0.0101 - val_loss: 0.0100\n",
            "Epoch 72/100\n",
            "600/600 [==============================] - 1s 2ms/step - loss: 0.0102 - val_loss: 0.0100\n",
            "Epoch 73/100\n",
            "600/600 [==============================] - 1s 2ms/step - loss: 0.0102 - val_loss: 0.0100\n",
            "Epoch 74/100\n",
            "600/600 [==============================] - 1s 2ms/step - loss: 0.0102 - val_loss: 0.0100\n",
            "Epoch 75/100\n",
            "600/600 [==============================] - 1s 2ms/step - loss: 0.0102 - val_loss: 0.0100\n",
            "Epoch 76/100\n",
            "600/600 [==============================] - 1s 2ms/step - loss: 0.0102 - val_loss: 0.0099\n",
            "Epoch 77/100\n",
            "600/600 [==============================] - 1s 2ms/step - loss: 0.0102 - val_loss: 0.0100\n",
            "Epoch 78/100\n",
            "600/600 [==============================] - 1s 2ms/step - loss: 0.0102 - val_loss: 0.0099\n",
            "Epoch 79/100\n",
            "600/600 [==============================] - 1s 2ms/step - loss: 0.0102 - val_loss: 0.0100\n",
            "Epoch 80/100\n",
            "600/600 [==============================] - 1s 2ms/step - loss: 0.0102 - val_loss: 0.0099\n",
            "Epoch 81/100\n",
            "600/600 [==============================] - 1s 2ms/step - loss: 0.0102 - val_loss: 0.0099\n",
            "Epoch 82/100\n",
            "600/600 [==============================] - 1s 2ms/step - loss: 0.0101 - val_loss: 0.0099\n",
            "Epoch 83/100\n",
            "600/600 [==============================] - 1s 2ms/step - loss: 0.0102 - val_loss: 0.0099\n",
            "Epoch 84/100\n",
            "600/600 [==============================] - 1s 2ms/step - loss: 0.0101 - val_loss: 0.0099\n",
            "Epoch 85/100\n",
            "600/600 [==============================] - 1s 2ms/step - loss: 0.0101 - val_loss: 0.0099\n",
            "Epoch 86/100\n",
            "600/600 [==============================] - 1s 2ms/step - loss: 0.0101 - val_loss: 0.0099\n",
            "Epoch 87/100\n",
            "600/600 [==============================] - 1s 2ms/step - loss: 0.0101 - val_loss: 0.0099\n",
            "Epoch 88/100\n",
            "600/600 [==============================] - 1s 2ms/step - loss: 0.0101 - val_loss: 0.0099\n",
            "Epoch 89/100\n",
            "600/600 [==============================] - 1s 2ms/step - loss: 0.0101 - val_loss: 0.0099\n",
            "Epoch 90/100\n",
            "600/600 [==============================] - 1s 2ms/step - loss: 0.0101 - val_loss: 0.0099\n",
            "Epoch 91/100\n",
            "600/600 [==============================] - 1s 2ms/step - loss: 0.0101 - val_loss: 0.0099\n",
            "Epoch 92/100\n",
            "600/600 [==============================] - 1s 2ms/step - loss: 0.0100 - val_loss: 0.0099\n",
            "Epoch 93/100\n",
            "600/600 [==============================] - 1s 2ms/step - loss: 0.0101 - val_loss: 0.0099\n",
            "Epoch 94/100\n",
            "600/600 [==============================] - 1s 2ms/step - loss: 0.0100 - val_loss: 0.0098\n",
            "Epoch 95/100\n",
            "600/600 [==============================] - 1s 2ms/step - loss: 0.0101 - val_loss: 0.0098\n",
            "Epoch 96/100\n",
            "600/600 [==============================] - 1s 2ms/step - loss: 0.0101 - val_loss: 0.0099\n",
            "Epoch 97/100\n",
            "600/600 [==============================] - 1s 2ms/step - loss: 0.0100 - val_loss: 0.0098\n",
            "Epoch 98/100\n",
            "600/600 [==============================] - 1s 2ms/step - loss: 0.0100 - val_loss: 0.0098\n",
            "Epoch 99/100\n",
            "600/600 [==============================] - 1s 2ms/step - loss: 0.0100 - val_loss: 0.0098\n",
            "Epoch 100/100\n",
            "600/600 [==============================] - 1s 2ms/step - loss: 0.0101 - val_loss: 0.0098\n"
          ],
          "name": "stdout"
        }
      ]
    },
    {
      "cell_type": "code",
      "metadata": {
        "id": "hQopW8yyG5fU"
      },
      "source": [
        "#predict\n",
        "test_y_predictions = model_digits64.predict(x_test)"
      ],
      "execution_count": 11,
      "outputs": []
    },
    {
      "cell_type": "code",
      "metadata": {
        "colab": {
          "base_uri": "https://localhost:8080/"
        },
        "id": "wu6syhBiHBJg",
        "outputId": "ec6c84d9-7703-46d4-c54e-8bee2095a144"
      },
      "source": [
        "test_y_predictions"
      ],
      "execution_count": 12,
      "outputs": [
        {
          "output_type": "execute_result",
          "data": {
            "text/plain": [
              "array([[-7.6699257e-04, -7.7616889e-05, -2.2784388e-03, ...,\n",
              "         2.4667610e-03, -8.2653016e-05,  2.4702051e-03],\n",
              "       [-4.6783835e-03, -1.1245380e-03, -4.7553051e-04, ...,\n",
              "         2.1678661e-03, -3.9451569e-04,  1.1020055e-03],\n",
              "       [-1.9948483e-03, -1.4474066e-03, -4.9207639e-04, ...,\n",
              "         1.4131601e-03,  8.6797494e-04,  1.3349004e-03],\n",
              "       ...,\n",
              "       [-2.5514308e-03, -6.6909706e-04, -1.8663267e-03, ...,\n",
              "         2.4957866e-03,  3.5713799e-04,  2.6335544e-03],\n",
              "       [-2.8784294e-03, -5.4873014e-04, -1.5651537e-03, ...,\n",
              "         2.4422966e-03,  9.7395433e-04,  2.9065986e-03],\n",
              "       [-3.0715596e-03, -7.7758450e-05, -1.9725496e-03, ...,\n",
              "         3.5367957e-03, -1.0430068e-03,  1.8664900e-03]], dtype=float32)"
            ]
          },
          "metadata": {
            "tags": []
          },
          "execution_count": 12
        }
      ]
    },
    {
      "cell_type": "code",
      "metadata": {
        "colab": {
          "base_uri": "https://localhost:8080/"
        },
        "id": "Fo6SzD2VHQ0C",
        "outputId": "6b8974b3-fddf-472b-e64f-10eaaf2a3d33"
      },
      "source": [
        "test_y_predictions.shape"
      ],
      "execution_count": 13,
      "outputs": [
        {
          "output_type": "execute_result",
          "data": {
            "text/plain": [
              "(10000, 784)"
            ]
          },
          "metadata": {
            "tags": []
          },
          "execution_count": 13
        }
      ]
    },
    {
      "cell_type": "code",
      "metadata": {
        "colab": {
          "base_uri": "https://localhost:8080/",
          "height": 282
        },
        "id": "m-JBL-sgHYFg",
        "outputId": "5f0076de-ba51-4266-98ca-edc42f1bc5f4"
      },
      "source": [
        "pl.imshow(x_test[1].reshape(28,28))"
      ],
      "execution_count": 14,
      "outputs": [
        {
          "output_type": "execute_result",
          "data": {
            "text/plain": [
              "<matplotlib.image.AxesImage at 0x7f3adb783690>"
            ]
          },
          "metadata": {
            "tags": []
          },
          "execution_count": 14
        },
        {
          "output_type": "display_data",
          "data": {
            "image/png": "[encoded data removed]",
            "text/plain": [
              "<Figure size 432x288 with 1 Axes>"
            ]
          },
          "metadata": {
            "tags": [],
            "needs_background": "light"
          }
        }
      ]
    },
    {
      "cell_type": "code",
      "metadata": {
        "colab": {
          "base_uri": "https://localhost:8080/",
          "height": 282
        },
        "id": "jX-eXn1rHJ_9",
        "outputId": "3a7b31bf-835b-4df3-b483-da6da43c1c54"
      },
      "source": [
        "pl.imshow(test_y_predictions[1].reshape(28,28))"
      ],
      "execution_count": 15,
      "outputs": [
        {
          "output_type": "execute_result",
          "data": {
            "text/plain": [
              "<matplotlib.image.AxesImage at 0x7f3ada6f3dd0>"
            ]
          },
          "metadata": {
            "tags": []
          },
          "execution_count": 15
        },
        {
          "output_type": "display_data",
          "data": {
            "image/png": "[encoded data removed]",
            "text/plain": [
              "<Figure size 432x288 with 1 Axes>"
            ]
          },
          "metadata": {
            "tags": [],
            "needs_background": "light"
          }
        }
      ]
    },
    {
      "cell_type": "markdown",
      "metadata": {
        "id": "h-jfXI90M0yE"
      },
      "source": [
        "### regression\n",
        "- loss='mean_squared_error' L2: default loss to use for regression problems. => linear activation function in output layer, one node out\n",
        "\n",
        "alternatives:  loss='mean_squared_logarithmic_error', 'mean_absolute_error' (which is L1 instead of L2)\n",
        "### binary classification\n",
        "\n",
        "- loss='binary_crossentropy' => sigmoid activation function in output layer, one node out\n",
        "\n",
        "alternatives: 'hinge'\n",
        "\n",
        "### multiclass classification\n",
        "categorical encoded as numerical\n",
        "- loss='categorical_crossentropy' => softmax n nodes out\n",
        "\n",
        "onehot encoded categoridal\n",
        "- 'parse_categorical_crossentropy' => softmax n nodes out\n",
        "\n",
        "- 'kullback Leibler Divergence Loss' => probabilistic categorical classification; log(P/Q)"
      ]
    },
    {
      "cell_type": "markdown",
      "metadata": {
        "id": "2ZORHj6SPha0"
      },
      "source": [
        "## optimizers\n",
        "- SGD: stocastic gradient descent \n",
        "    - nesterov=True -> momentum inclusion\n",
        "- adam: Adaptive moment estimation. **good in most cases**\n",
        "- adagrad: different steps for different parameters based on frequency (binary input) well-suited for dealing with sparse data.\n",
        "\n",
        "- adaDelta: like adagrad but compensated for vanishing learning rate problem\n",
        "\n",
        "momentum refers to looking one step back and make a decision that includes the slope there\n",
        "\n",
        "### parameter:\n",
        "generally you need to adjust the learning rate which is how much you change the parameters by at each step. \n",
        "keras.optimizers.Adam(lr=0.001)\n",
        "\n",
        "\n",
        "https://gitcdn.xyz/cdn/Tony607/blog_statics/e1a0b1e060e783bd1978a141acff897ae71bd021/images/optimizer/optimizer.gif"
      ]
    },
    {
      "cell_type": "code",
      "metadata": {
        "id": "KwCCOxn1Juxl",
        "colab": {
          "base_uri": "https://localhost:8080/"
        },
        "outputId": "27f553dc-56f2-49c7-af46-b1d2a71e2864"
      },
      "source": [
        "print(model_digits64.summary())"
      ],
      "execution_count": 16,
      "outputs": [
        {
          "output_type": "stream",
          "text": [
            "Model: \"sequential\"\n",
            "_________________________________________________________________\n",
            "Layer (type)                 Output Shape              Param #   \n",
            "=================================================================\n",
            "dense (Dense)                (None, 128)               100480    \n",
            "_________________________________________________________________\n",
            "dense_1 (Dense)              (None, 64)                8256      \n",
            "_________________________________________________________________\n",
            "dense_2 (Dense)              (None, 128)               8320      \n",
            "_________________________________________________________________\n",
            "dense_3 (Dense)              (None, 784)               101136    \n",
            "=================================================================\n",
            "Total params: 218,192\n",
            "Trainable params: 218,192\n",
            "Non-trainable params: 0\n",
            "_________________________________________________________________\n",
            "None\n"
          ],
          "name": "stdout"
        }
      ]
    },
    {
      "cell_type": "markdown",
      "metadata": {
        "id": "HJO05FMnRGtP"
      },
      "source": [
        "# always look at the loss!"
      ]
    },
    {
      "cell_type": "code",
      "metadata": {
        "id": "VhfIAie1Jucz",
        "colab": {
          "base_uri": "https://localhost:8080/",
          "height": 298
        },
        "outputId": "f7795f7b-af61-44f8-d826-db2be821d90e"
      },
      "source": [
        "pl.plot(np.array(history64.history['loss']))\n",
        "pl.ylabel('loss') #loss di ogni epoca\n",
        "pl.xlabel('iteration') #epoche\n",
        "#pl.yscale('log')\n",
        "#pl.xscale('log')"
      ],
      "execution_count": 20,
      "outputs": [
        {
          "output_type": "execute_result",
          "data": {
            "text/plain": [
              "Text(0.5, 0, 'iteration')"
            ]
          },
          "metadata": {
            "tags": []
          },
          "execution_count": 20
        },
        {
          "output_type": "display_data",
          "data": {
            "image/png": "[encoded data removed]",
            "text/plain": [
              "<Figure size 432x288 with 1 Axes>"
            ]
          },
          "metadata": {
            "tags": [],
            "needs_background": "light"
          }
        }
      ]
    },
    {
      "cell_type": "markdown",
      "metadata": {
        "id": "ZnbDdWi4NxBj"
      },
      "source": [
        "The loss fuctionis plotted and because it is still decreasingn quite rapidly (slope of the curve not near 0 yet) I know I did not run enough epochs. Try and run for 200 epochs!"
      ]
    },
    {
      "cell_type": "markdown",
      "metadata": {
        "id": "iGTPRyFgRQTF"
      },
      "source": [
        "# predict"
      ]
    },
    {
      "cell_type": "code",
      "metadata": {
        "id": "7exTCDcJKhU_"
      },
      "source": [
        "output_image64 = model_digits64.predict(x_test)"
      ],
      "execution_count": 23,
      "outputs": []
    },
    {
      "cell_type": "code",
      "metadata": {
        "id": "qeFEGpTul4U6"
      },
      "source": [
        "def compareinout(i, outim, testimg, initialshape=(28,28)):\n",
        "  fig = pl.figure(figsize(10,5))\n",
        "  ax = fig.add_subplot(121) \n",
        "  ax.imshow(testimg[i].reshape(initialshape) , cmap=\"bone\")\n",
        "  ax.get_xaxis().set_visible(False)\n",
        "  ax.get_yaxis().set_visible(False)\n",
        "  ax = fig.add_subplot(122) \n",
        "  ax.imshow(outim[i].reshape(initialshape) , cmap=\"bone\")\n",
        "  ax.get_xaxis().set_visible(False)\n",
        "  ax.get_yaxis().set_visible(False)\n"
      ],
      "execution_count": 21,
      "outputs": []
    },
    {
      "cell_type": "code",
      "metadata": {
        "id": "v3hzx41EKhOj",
        "colab": {
          "base_uri": "https://localhost:8080/",
          "height": 1000
        },
        "outputId": "6c6da501-ce4b-4bdb-abac-753c6478476f"
      },
      "source": [
        "for i in range(10):\n",
        "  compareinout(i, output_image64, x_test)"
      ],
      "execution_count": 24,
      "outputs": [
        {
          "output_type": "display_data",
          "data": {
            "image/png": "[encoded data removed]",
            "text/plain": [
              "<Figure size 720x360 with 2 Axes>"
            ]
          },
          "metadata": {
            "tags": [],
            "needs_background": "light"
          }
        },
        {
          "output_type": "display_data",
          "data": {
            "image/png": "[encoded data removed]",
            "text/plain": [
              "<Figure size 720x360 with 2 Axes>"
            ]
          },
          "metadata": {
            "tags": [],
            "needs_background": "light"
          }
        },
        {
          "output_type": "display_data",
          "data": {
            "image/png": "[encoded data removed]",
            "text/plain": [
              "<Figure size 720x360 with 2 Axes>"
            ]
          },
          "metadata": {
            "tags": [],
            "needs_background": "light"
          }
        },
        {
          "output_type": "display_data",
          "data": {
            "image/png": "[encoded data removed]",
            "text/plain": [
              "<Figure size 720x360 with 2 Axes>"
            ]
          },
          "metadata": {
            "tags": [],
            "needs_background": "light"
          }
        },
        {
          "output_type": "display_data",
          "data": {
            "image/png": "[encoded data removed]",
            "text/plain": [
              "<Figure size 720x360 with 2 Axes>"
            ]
          },
          "metadata": {
            "tags": [],
            "needs_background": "light"
          }
        },
        {
          "output_type": "display_data",
          "data": {
            "image/png": "[encoded data removed]",
            "text/plain": [
              "<Figure size 720x360 with 2 Axes>"
            ]
          },
          "metadata": {
            "tags": [],
            "needs_background": "light"
          }
        },
        {
          "output_type": "display_data",
          "data": {
            "image/png": "[encoded data removed]",
            "text/plain": [
              "<Figure size 720x360 with 2 Axes>"
            ]
          },
          "metadata": {
            "tags": [],
            "needs_background": "light"
          }
        },
        {
          "output_type": "display_data",
          "data": {
            "image/png": "[encoded data removed]",
            "text/plain": [
              "<Figure size 720x360 with 2 Axes>"
            ]
          },
          "metadata": {
            "tags": [],
            "needs_background": "light"
          }
        },
        {
          "output_type": "display_data",
          "data": {
            "image/png": "[encoded data removed]",
            "text/plain": [
              "<Figure size 720x360 with 2 Axes>"
            ]
          },
          "metadata": {
            "tags": [],
            "needs_background": "light"
          }
        },
        {
          "output_type": "display_data",
          "data": {
            "image/png": "[encoded data removed]",
            "text/plain": [
              "<Figure size 720x360 with 2 Axes>"
            ]
          },
          "metadata": {
            "tags": [],
            "needs_background": "light"
          }
        }
      ]
    },
    {
      "cell_type": "markdown",
      "metadata": {
        "id": "whLydcJrM7t6"
      },
      "source": [
        "This is a rather bad result. Let me see if I can improve it . The images are too detailed. I can treat the problem as a binary problem to derice some detail. To approach a binary classifier I switch the activation function in the last layer to sigmoid"
      ]
    },
    {
      "cell_type": "markdown",
      "metadata": {
        "id": "NsvBeF_nSJTO"
      },
      "source": [
        "# change loss function"
      ]
    },
    {
      "cell_type": "code",
      "metadata": {
        "id": "sDXyqX7WKhHu"
      },
      "source": [
        "# choose the optimizer and loss appropriately!\n",
        "\n",
        "#Creo il network a partire da input appiattito:\n",
        "model_digits64_sig = Sequential()\n",
        "## encoder\n",
        "# input layer and the output size\n",
        "model_digits64_sig.add(Dense(128, activation='relu',batch_size = None, input_dim=784)) #input_dim per importare immagine appiattita(1D). input_shape per importare immagine 2D.\n",
        "#compression layer\n",
        "model_digits64_sig.add(Dense(64, activation='relu'))\n",
        "## deencoder\n",
        "#decompression layer, same size as in the encoder\n",
        "model_digits64_sig.add(Dense(128, activation='relu'))\n",
        "#output layer, same size as input\n",
        "model_digits64_sig.add(Dense(ndim, activation='sigmoid'))"
      ],
      "execution_count": 26,
      "outputs": []
    },
    {
      "cell_type": "code",
      "metadata": {
        "id": "Dl9LZsW3uvQT"
      },
      "source": [
        "model_digits64_sig.compile(optimizer='adam', loss='binary_crossentropy')"
      ],
      "execution_count": 27,
      "outputs": []
    },
    {
      "cell_type": "code",
      "metadata": {
        "id": "hbxiT8xdKhC8",
        "colab": {
          "base_uri": "https://localhost:8080/"
        },
        "outputId": "b2c99eab-60c0-4f46-c07b-7c2f6d08692a"
      },
      "source": [
        "history64_sig = model_digits64_sig.fit(x_train, x_train, \n",
        "                                       validation_data=(x_test, x_test), \n",
        "                                       epochs=20, batch_size=100, verbose=1)"
      ],
      "execution_count": 28,
      "outputs": [
        {
          "output_type": "stream",
          "text": [
            "Epoch 1/20\n",
            "600/600 [==============================] - 2s 3ms/step - loss: 0.2463 - val_loss: 0.1102\n",
            "Epoch 2/20\n",
            "600/600 [==============================] - 1s 2ms/step - loss: 0.1063 - val_loss: 0.0948\n",
            "Epoch 3/20\n",
            "600/600 [==============================] - 1s 2ms/step - loss: 0.0945 - val_loss: 0.0888\n",
            "Epoch 4/20\n",
            "600/600 [==============================] - 1s 2ms/step - loss: 0.0891 - val_loss: 0.0852\n",
            "Epoch 5/20\n",
            "600/600 [==============================] - 1s 2ms/step - loss: 0.0858 - val_loss: 0.0828\n",
            "Epoch 6/20\n",
            "600/600 [==============================] - 1s 2ms/step - loss: 0.0834 - val_loss: 0.0811\n",
            "Epoch 7/20\n",
            "600/600 [==============================] - 1s 2ms/step - loss: 0.0817 - val_loss: 0.0805\n",
            "Epoch 8/20\n",
            "600/600 [==============================] - 1s 2ms/step - loss: 0.0805 - val_loss: 0.0787\n",
            "Epoch 9/20\n",
            "600/600 [==============================] - 1s 2ms/step - loss: 0.0794 - val_loss: 0.0778\n",
            "Epoch 10/20\n",
            "600/600 [==============================] - 1s 2ms/step - loss: 0.0786 - val_loss: 0.0773\n",
            "Epoch 11/20\n",
            "600/600 [==============================] - 1s 2ms/step - loss: 0.0779 - val_loss: 0.0776\n",
            "Epoch 12/20\n",
            "600/600 [==============================] - 1s 2ms/step - loss: 0.0773 - val_loss: 0.0761\n",
            "Epoch 13/20\n",
            "600/600 [==============================] - 1s 2ms/step - loss: 0.0767 - val_loss: 0.0757\n",
            "Epoch 14/20\n",
            "600/600 [==============================] - 1s 2ms/step - loss: 0.0761 - val_loss: 0.0753\n",
            "Epoch 15/20\n",
            "600/600 [==============================] - 1s 2ms/step - loss: 0.0759 - val_loss: 0.0750\n",
            "Epoch 16/20\n",
            "600/600 [==============================] - 1s 2ms/step - loss: 0.0754 - val_loss: 0.0747\n",
            "Epoch 17/20\n",
            "600/600 [==============================] - 1s 2ms/step - loss: 0.0753 - val_loss: 0.0750\n",
            "Epoch 18/20\n",
            "600/600 [==============================] - 1s 2ms/step - loss: 0.0750 - val_loss: 0.0744\n",
            "Epoch 19/20\n",
            "600/600 [==============================] - 1s 2ms/step - loss: 0.0748 - val_loss: 0.0743\n",
            "Epoch 20/20\n",
            "600/600 [==============================] - 1s 2ms/step - loss: 0.0745 - val_loss: 0.0739\n"
          ],
          "name": "stdout"
        }
      ]
    },
    {
      "cell_type": "code",
      "metadata": {
        "colab": {
          "base_uri": "https://localhost:8080/"
        },
        "id": "OrqLAFx5x5Oi",
        "outputId": "a9e025df-5820-4625-f98e-2dedd289f0af"
      },
      "source": [
        "history64.history"
      ],
      "execution_count": 43,
      "outputs": [
        {
          "output_type": "execute_result",
          "data": {
            "text/plain": [
              "{'loss': [0.011347084306180477,\n",
              "  0.011277895420789719,\n",
              "  0.011260305531322956,\n",
              "  0.011233732104301453,\n",
              "  0.011214040219783783,\n",
              "  0.011178706772625446,\n",
              "  0.011146817356348038,\n",
              "  0.011119668371975422,\n",
              "  0.011074366047978401,\n",
              "  0.011035884730517864,\n",
              "  0.010999794118106365,\n",
              "  0.010953488759696484,\n",
              "  0.010913318023085594,\n",
              "  0.010891449637711048,\n",
              "  0.01084748562425375,\n",
              "  0.010821495205163956,\n",
              "  0.01079241931438446,\n",
              "  0.010762985795736313,\n",
              "  0.010745014064013958,\n",
              "  0.010725819505751133,\n",
              "  0.010701797902584076,\n",
              "  0.010681942105293274,\n",
              "  0.010665042325854301,\n",
              "  0.010647610761225224,\n",
              "  0.010621150955557823,\n",
              "  0.010607332922518253,\n",
              "  0.010586717166006565,\n",
              "  0.0105696190148592,\n",
              "  0.010555082932114601,\n",
              "  0.010539475828409195,\n",
              "  0.010521273128688335,\n",
              "  0.010503078810870647,\n",
              "  0.010493049398064613,\n",
              "  0.010473563335835934,\n",
              "  0.010465523228049278,\n",
              "  0.010451423935592175,\n",
              "  0.010437624529004097,\n",
              "  0.01042912621051073,\n",
              "  0.010415918193757534,\n",
              "  0.010407683439552784,\n",
              "  0.010399086400866508,\n",
              "  0.01038228627294302,\n",
              "  0.010381809435784817,\n",
              "  0.010371558368206024,\n",
              "  0.010358753614127636,\n",
              "  0.010348747484385967,\n",
              "  0.01034355815500021,\n",
              "  0.010337796062231064,\n",
              "  0.01032484881579876,\n",
              "  0.010317448526620865,\n",
              "  0.010315043851733208,\n",
              "  0.010310533456504345,\n",
              "  0.010295404121279716,\n",
              "  0.010293079540133476,\n",
              "  0.010284467600286007,\n",
              "  0.010282485745847225,\n",
              "  0.010279095731675625,\n",
              "  0.010262406431138515,\n",
              "  0.01025906577706337,\n",
              "  0.01025816798210144,\n",
              "  0.010250001214444637,\n",
              "  0.01023823767900467,\n",
              "  0.010243022814393044,\n",
              "  0.01023467630147934,\n",
              "  0.010228412225842476,\n",
              "  0.010225038975477219,\n",
              "  0.010220778174698353,\n",
              "  0.010216888040304184,\n",
              "  0.010212455876171589,\n",
              "  0.010207956656813622,\n",
              "  0.010197483003139496,\n",
              "  0.0101988036185503,\n",
              "  0.010189168155193329,\n",
              "  0.010185178369283676,\n",
              "  0.010184315033257008,\n",
              "  0.010175492614507675,\n",
              "  0.01017401646822691,\n",
              "  0.010176205076277256,\n",
              "  0.010171272791922092,\n",
              "  0.010158702731132507,\n",
              "  0.0101609006524086,\n",
              "  0.010151686146855354,\n",
              "  0.010144534520804882,\n",
              "  0.01014817412942648,\n",
              "  0.010134166106581688,\n",
              "  0.010131432674825191,\n",
              "  0.01012577023357153,\n",
              "  0.010117611847817898,\n",
              "  0.010109235532581806,\n",
              "  0.0101084616035223,\n",
              "  0.010091912001371384,\n",
              "  0.010086449794471264,\n",
              "  0.010080093517899513,\n",
              "  0.010068909265100956,\n",
              "  0.01006723940372467,\n",
              "  0.010051141493022442,\n",
              "  0.010050516575574875,\n",
              "  0.010043257847428322,\n",
              "  0.01003224216401577,\n",
              "  0.010028419084846973],\n",
              " 'val_loss': [0.01104993186891079,\n",
              "  0.010968605056405067,\n",
              "  0.010988560505211353,\n",
              "  0.010928891599178314,\n",
              "  0.01092555746436119,\n",
              "  0.010901848785579205,\n",
              "  0.01084719505161047,\n",
              "  0.010791742242872715,\n",
              "  0.010782281868159771,\n",
              "  0.010740406811237335,\n",
              "  0.01075711753219366,\n",
              "  0.010677780956029892,\n",
              "  0.010694614611566067,\n",
              "  0.010578185319900513,\n",
              "  0.01057380996644497,\n",
              "  0.01052124984562397,\n",
              "  0.01052771881222725,\n",
              "  0.010458765551447868,\n",
              "  0.010521499440073967,\n",
              "  0.010473044589161873,\n",
              "  0.010447333566844463,\n",
              "  0.010431872680783272,\n",
              "  0.010363773442804813,\n",
              "  0.01036077830940485,\n",
              "  0.010386396199464798,\n",
              "  0.010347766801714897,\n",
              "  0.010286025702953339,\n",
              "  0.010265832766890526,\n",
              "  0.010346992872655392,\n",
              "  0.010289818979799747,\n",
              "  0.010267366655170918,\n",
              "  0.010232951492071152,\n",
              "  0.010255776345729828,\n",
              "  0.010198069736361504,\n",
              "  0.010217057541012764,\n",
              "  0.010179233737289906,\n",
              "  0.010212045162916183,\n",
              "  0.010173562914133072,\n",
              "  0.010159838944673538,\n",
              "  0.010198643431067467,\n",
              "  0.010157888755202293,\n",
              "  0.01014055497944355,\n",
              "  0.010118510574102402,\n",
              "  0.010112231597304344,\n",
              "  0.010111615993082523,\n",
              "  0.010117975994944572,\n",
              "  0.010068329982459545,\n",
              "  0.010131330229341984,\n",
              "  0.01006797980517149,\n",
              "  0.010064839385449886,\n",
              "  0.010047451592981815,\n",
              "  0.010088799521327019,\n",
              "  0.01003806572407484,\n",
              "  0.010079084895551205,\n",
              "  0.01006363332271576,\n",
              "  0.010027903132140636,\n",
              "  0.010035475715994835,\n",
              "  0.010044751688838005,\n",
              "  0.010020861402153969,\n",
              "  0.010005718097090721,\n",
              "  0.009997899644076824,\n",
              "  0.010004454292356968,\n",
              "  0.010035477578639984,\n",
              "  0.009974081069231033,\n",
              "  0.01003838051110506,\n",
              "  0.009955788031220436,\n",
              "  0.009972172789275646,\n",
              "  0.009942361153662205,\n",
              "  0.01002848707139492,\n",
              "  0.009976989589631557,\n",
              "  0.010008933953940868,\n",
              "  0.009992963634431362,\n",
              "  0.009951001964509487,\n",
              "  0.009974883869290352,\n",
              "  0.009992808103561401,\n",
              "  0.009936556220054626,\n",
              "  0.009954553097486496,\n",
              "  0.009926010854542255,\n",
              "  0.009978031739592552,\n",
              "  0.009897293522953987,\n",
              "  0.009930572472512722,\n",
              "  0.009921940974891186,\n",
              "  0.009928862564265728,\n",
              "  0.009915295988321304,\n",
              "  0.009876147843897343,\n",
              "  0.009886739775538445,\n",
              "  0.009886707179248333,\n",
              "  0.009901857003569603,\n",
              "  0.00988845992833376,\n",
              "  0.009893839247524738,\n",
              "  0.009867003187537193,\n",
              "  0.009917140938341618,\n",
              "  0.009863420389592648,\n",
              "  0.009840712882578373,\n",
              "  0.009821073152124882,\n",
              "  0.0098688043653965,\n",
              "  0.00980561226606369,\n",
              "  0.00981761235743761,\n",
              "  0.009791805408895016,\n",
              "  0.009797765873372555]}"
            ]
          },
          "metadata": {
            "tags": []
          },
          "execution_count": 43
        }
      ]
    },
    {
      "cell_type": "code",
      "metadata": {
        "id": "dQFxJHtbR2RV",
        "colab": {
          "base_uri": "https://localhost:8080/",
          "height": 351
        },
        "outputId": "ff249ede-6b0f-44e7-c337-ec34fb8d947e"
      },
      "source": [
        "pl.plot(np.array(history64_sig.history['loss']))\n",
        "pl.ylabel('loss')\n",
        "pl.xlabel('iteration')\n",
        "#pl.yscale('log')\n",
        "#pl.xscale('log')"
      ],
      "execution_count": 29,
      "outputs": [
        {
          "output_type": "execute_result",
          "data": {
            "text/plain": [
              "Text(0.5, 0, 'iteration')"
            ]
          },
          "metadata": {
            "tags": []
          },
          "execution_count": 29
        },
        {
          "output_type": "display_data",
          "data": {
            "image/png": "[encoded data removed]",
            "text/plain": [
              "<Figure size 720x360 with 1 Axes>"
            ]
          },
          "metadata": {
            "tags": [],
            "needs_background": "light"
          }
        }
      ]
    },
    {
      "cell_type": "markdown",
      "metadata": {
        "id": "ZipOD2qLNYQq"
      },
      "source": [
        "The loss fuctionis plotted and because it is still decreasingn quite rapidly (slope of the curve not near 0 yet) I know I did not run enough epochs. Try and run for 200 epochs!"
      ]
    },
    {
      "cell_type": "code",
      "metadata": {
        "id": "1yOJ8s_xR2L3",
        "colab": {
          "base_uri": "https://localhost:8080/",
          "height": 1000
        },
        "outputId": "4ded99fc-ff1e-407f-c214-f0d90754495f"
      },
      "source": [
        "output_image64_sig = model_digits64_sig.predict(x_test)\n",
        "for i in range(10):\n",
        "  compareinout(i, output_image64_sig, x_test)"
      ],
      "execution_count": 30,
      "outputs": [
        {
          "output_type": "display_data",
          "data": {
            "image/png": "[encoded data removed]",
            "text/plain": [
              "<Figure size 720x360 with 2 Axes>"
            ]
          },
          "metadata": {
            "tags": [],
            "needs_background": "light"
          }
        },
        {
          "output_type": "display_data",
          "data": {
            "image/png": "[encoded data removed]",
            "text/plain": [
              "<Figure size 720x360 with 2 Axes>"
            ]
          },
          "metadata": {
            "tags": [],
            "needs_background": "light"
          }
        },
        {
          "output_type": "display_data",
          "data": {
            "image/png": "[encoded data removed]",
            "text/plain": [
              "<Figure size 720x360 with 2 Axes>"
            ]
          },
          "metadata": {
            "tags": [],
            "needs_background": "light"
          }
        },
        {
          "output_type": "display_data",
          "data": {
            "image/png": "[encoded data removed]",
            "text/plain": [
              "<Figure size 720x360 with 2 Axes>"
            ]
          },
          "metadata": {
            "tags": [],
            "needs_background": "light"
          }
        },
        {
          "output_type": "display_data",
          "data": {
            "image/png": "[encoded data removed]",
            "text/plain": [
              "<Figure size 720x360 with 2 Axes>"
            ]
          },
          "metadata": {
            "tags": [],
            "needs_background": "light"
          }
        },
        {
          "output_type": "display_data",
          "data": {
            "image/png": "[encoded data removed]",
            "text/plain": [
              "<Figure size 720x360 with 2 Axes>"
            ]
          },
          "metadata": {
            "tags": [],
            "needs_background": "light"
          }
        },
        {
          "output_type": "display_data",
          "data": {
            "image/png": "[encoded data removed]",
            "text/plain": [
              "<Figure size 720x360 with 2 Axes>"
            ]
          },
          "metadata": {
            "tags": [],
            "needs_background": "light"
          }
        },
        {
          "output_type": "display_data",
          "data": {
            "image/png": "[encoded data removed]",
            "text/plain": [
              "<Figure size 720x360 with 2 Axes>"
            ]
          },
          "metadata": {
            "tags": [],
            "needs_background": "light"
          }
        },
        {
          "output_type": "display_data",
          "data": {
            "image/png": "[encoded data removed]",
            "text/plain": [
              "<Figure size 720x360 with 2 Axes>"
            ]
          },
          "metadata": {
            "tags": [],
            "needs_background": "light"
          }
        },
        {
          "output_type": "display_data",
          "data": {
            "image/png": "[encoded data removed]",
            "text/plain": [
              "<Figure size 720x360 with 2 Axes>"
            ]
          },
          "metadata": {
            "tags": [],
            "needs_background": "light"
          }
        }
      ]
    },
    {
      "cell_type": "markdown",
      "metadata": {
        "id": "7A14pdeQNOb8"
      },
      "source": [
        "Much better! Let me choose a loss fuctio that is more appropriate for a nbinary classificaton."
      ]
    },
    {
      "cell_type": "code",
      "metadata": {
        "id": "mBCGc4CLTXJ9"
      },
      "source": [
        "# sigmoid and binary cross entropy loss\n",
        "model_digits64_bce = model_digits64_sig"
      ],
      "execution_count": 32,
      "outputs": []
    },
    {
      "cell_type": "code",
      "metadata": {
        "id": "ZH8X_lDVTlCs",
        "colab": {
          "base_uri": "https://localhost:8080/"
        },
        "outputId": "8ea3e948-75b0-461d-9765-ab799ec2b965"
      },
      "source": [
        "model_digits64_bce.compile(optimizer=\"adadelta\", loss=\"binary_crossentropy\")\n",
        "history64_bce = model_digits64_bce.fit(x_train, x_train, \n",
        "                                       validation_data=(x_test, x_test), \n",
        "                                       epochs=20, batch_size=100, verbose=1)"
      ],
      "execution_count": 34,
      "outputs": [
        {
          "output_type": "stream",
          "text": [
            "Epoch 1/20\n",
            "600/600 [==============================] - 2s 3ms/step - loss: 0.0741 - val_loss: 0.0735\n",
            "Epoch 2/20\n",
            "600/600 [==============================] - 1s 2ms/step - loss: 0.0738 - val_loss: 0.0735\n",
            "Epoch 3/20\n",
            "600/600 [==============================] - 1s 2ms/step - loss: 0.0737 - val_loss: 0.0734\n",
            "Epoch 4/20\n",
            "600/600 [==============================] - 1s 2ms/step - loss: 0.0738 - val_loss: 0.0734\n",
            "Epoch 5/20\n",
            "600/600 [==============================] - 1s 2ms/step - loss: 0.0737 - val_loss: 0.0733\n",
            "Epoch 6/20\n",
            "600/600 [==============================] - 1s 2ms/step - loss: 0.0737 - val_loss: 0.0733\n",
            "Epoch 7/20\n",
            "600/600 [==============================] - 1s 2ms/step - loss: 0.0736 - val_loss: 0.0733\n",
            "Epoch 8/20\n",
            "600/600 [==============================] - 1s 2ms/step - loss: 0.0736 - val_loss: 0.0733\n",
            "Epoch 9/20\n",
            "600/600 [==============================] - 1s 2ms/step - loss: 0.0738 - val_loss: 0.0733\n",
            "Epoch 10/20\n",
            "600/600 [==============================] - 1s 2ms/step - loss: 0.0736 - val_loss: 0.0733\n",
            "Epoch 11/20\n",
            "600/600 [==============================] - 1s 2ms/step - loss: 0.0736 - val_loss: 0.0732\n",
            "Epoch 12/20\n",
            "600/600 [==============================] - 1s 2ms/step - loss: 0.0737 - val_loss: 0.0732\n",
            "Epoch 13/20\n",
            "600/600 [==============================] - 1s 2ms/step - loss: 0.0737 - val_loss: 0.0732\n",
            "Epoch 14/20\n",
            "600/600 [==============================] - 1s 2ms/step - loss: 0.0735 - val_loss: 0.0732\n",
            "Epoch 15/20\n",
            "600/600 [==============================] - 1s 2ms/step - loss: 0.0737 - val_loss: 0.0732\n",
            "Epoch 16/20\n",
            "600/600 [==============================] - 1s 2ms/step - loss: 0.0735 - val_loss: 0.0732\n",
            "Epoch 17/20\n",
            "600/600 [==============================] - 1s 2ms/step - loss: 0.0735 - val_loss: 0.0732\n",
            "Epoch 18/20\n",
            "600/600 [==============================] - 1s 2ms/step - loss: 0.0736 - val_loss: 0.0732\n",
            "Epoch 19/20\n",
            "600/600 [==============================] - 1s 2ms/step - loss: 0.0737 - val_loss: 0.0732\n",
            "Epoch 20/20\n",
            "600/600 [==============================] - 1s 2ms/step - loss: 0.0737 - val_loss: 0.0732\n"
          ],
          "name": "stdout"
        }
      ]
    },
    {
      "cell_type": "code",
      "metadata": {
        "id": "g94anP0NT4ET",
        "colab": {
          "base_uri": "https://localhost:8080/",
          "height": 351
        },
        "outputId": "1baeadab-daa2-412f-df0c-e1c4974c9390"
      },
      "source": [
        "pl.plot(np.array(history64_bce.history['loss']))\n",
        "pl.ylabel('loss')\n",
        "pl.xlabel('iteration')\n",
        "#pl.yscale('log')\n",
        "#pl.xscale('log')"
      ],
      "execution_count": 35,
      "outputs": [
        {
          "output_type": "execute_result",
          "data": {
            "text/plain": [
              "Text(0.5, 0, 'iteration')"
            ]
          },
          "metadata": {
            "tags": []
          },
          "execution_count": 35
        },
        {
          "output_type": "display_data",
          "data": {
            "image/png": "[encoded data removed]",
            "text/plain": [
              "<Figure size 720x360 with 1 Axes>"
            ]
          },
          "metadata": {
            "tags": [],
            "needs_background": "light"
          }
        }
      ]
    },
    {
      "cell_type": "markdown",
      "metadata": {
        "id": "q4jlTB2zN_0Y"
      },
      "source": [
        "This loss fuction is also decreasing to steeply. Too few epochs!"
      ]
    },
    {
      "cell_type": "code",
      "metadata": {
        "id": "_HuqPELWT380",
        "colab": {
          "base_uri": "https://localhost:8080/",
          "height": 1000
        },
        "outputId": "34b4af4f-7d29-4b4a-b505-53420190a765"
      },
      "source": [
        "output_image64_bce = model_digits64_bce.predict(x_test)\n",
        "for i in range(10):\n",
        "  compareinout(i, output_image64_bce, x_test)"
      ],
      "execution_count": 36,
      "outputs": [
        {
          "output_type": "display_data",
          "data": {
            "image/png": "[encoded data removed]",
            "text/plain": [
              "<Figure size 720x360 with 2 Axes>"
            ]
          },
          "metadata": {
            "tags": [],
            "needs_background": "light"
          }
        },
        {
          "output_type": "display_data",
          "data": {
            "image/png": "[encoded data removed]",
            "text/plain": [
              "<Figure size 720x360 with 2 Axes>"
            ]
          },
          "metadata": {
            "tags": [],
            "needs_background": "light"
          }
        },
        {
          "output_type": "display_data",
          "data": {
            "image/png": "[encoded data removed]",
            "text/plain": [
              "<Figure size 720x360 with 2 Axes>"
            ]
          },
          "metadata": {
            "tags": [],
            "needs_background": "light"
          }
        },
        {
          "output_type": "display_data",
          "data": {
            "image/png": "[encoded data removed]",
            "text/plain": [
              "<Figure size 720x360 with 2 Axes>"
            ]
          },
          "metadata": {
            "tags": [],
            "needs_background": "light"
          }
        },
        {
          "output_type": "display_data",
          "data": {
            "image/png": "[encoded data removed]",
            "text/plain": [
              "<Figure size 720x360 with 2 Axes>"
            ]
          },
          "metadata": {
            "tags": [],
            "needs_background": "light"
          }
        },
        {
          "output_type": "display_data",
          "data": {
            "image/png": "[encoded data removed]",
            "text/plain": [
              "<Figure size 720x360 with 2 Axes>"
            ]
          },
          "metadata": {
            "tags": [],
            "needs_background": "light"
          }
        },
        {
          "output_type": "display_data",
          "data": {
            "image/png": "[encoded data removed]",
            "text/plain": [
              "<Figure size 720x360 with 2 Axes>"
            ]
          },
          "metadata": {
            "tags": [],
            "needs_background": "light"
          }
        },
        {
          "output_type": "display_data",
          "data": {
            "image/png": "[encoded data removed]",
            "text/plain": [
              "<Figure size 720x360 with 2 Axes>"
            ]
          },
          "metadata": {
            "tags": [],
            "needs_background": "light"
          }
        },
        {
          "output_type": "display_data",
          "data": {
            "image/png": "[encoded data removed]",
            "text/plain": [
              "<Figure size 720x360 with 2 Axes>"
            ]
          },
          "metadata": {
            "tags": [],
            "needs_background": "light"
          }
        },
        {
          "output_type": "display_data",
          "data": {
            "image/png": "[encoded data removed]",
            "text/plain": [
              "<Figure size 720x360 with 2 Axes>"
            ]
          },
          "metadata": {
            "tags": [],
            "needs_background": "light"
          }
        }
      ]
    },
    {
      "cell_type": "markdown",
      "metadata": {
        "id": "OvSx1rU4OHrp"
      },
      "source": [
        "This is a pretty good result!"
      ]
    },
    {
      "cell_type": "code",
      "metadata": {
        "id": "5yWtDsH3T30C",
        "colab": {
          "base_uri": "https://localhost:8080/",
          "height": 704
        },
        "outputId": "80fe1292-af01-40d6-d9af-d8b17208a8d0"
      },
      "source": [
        "pl.plot(np.array(history64.history['loss']), label=\"linear\")\n",
        "pl.plot(np.array(history64_sig.history['loss']), label=\"sigmoid\")\n",
        "pl.plot(np.array(history64_bce.history['loss']), label=\"bce\")\n",
        "pl.ylabel('loss')\n",
        "pl.xlabel('iteration')\n",
        "pl.legend()\n",
        "pl.title(\"the 3 loss functions\")\n",
        "pl.figure()\n",
        "pl.plot(np.array(history64.history['loss']), label=\"linear\")\n",
        "pl.plot(np.array(history64_sig.history['loss']), label=\"sigmoid\")\n",
        "pl.plot(np.array(history64_bce.history['loss']), label=\"bce\")\n",
        "pl.ylabel('loss')\n",
        "pl.xlabel('iteration')\n",
        "pl.xscale('log')\n",
        "pl.yscale('log')\n",
        "pl.legend()\n",
        "pl.title(\"the 3 loss functions, log scale\")"
      ],
      "execution_count": 37,
      "outputs": [
        {
          "output_type": "execute_result",
          "data": {
            "text/plain": [
              "Text(0.5, 1.0, 'the 3 loss functions, log scale')"
            ]
          },
          "metadata": {
            "tags": []
          },
          "execution_count": 37
        },
        {
          "output_type": "display_data",
          "data": {
            "image/png": "[encoded data removed]",
            "text/plain": [
              "<Figure size 720x360 with 1 Axes>"
            ]
          },
          "metadata": {
            "tags": [],
            "needs_background": "light"
          }
        },
        {
          "output_type": "display_data",
          "data": {
            "image/png": "[encoded data removed]",
            "text/plain": [
              "<Figure size 720x360 with 1 Axes>"
            ]
          },
          "metadata": {
            "tags": [],
            "needs_background": "light"
          }
        }
      ]
    },
    {
      "cell_type": "markdown",
      "metadata": {
        "id": "tXbrVpAUOeJF"
      },
      "source": [
        "All loss functions plotted: topin natural, bottomin logscale for enhanced visibility. It does not look like any of them is done learning (all decreasing rapidly still), especially the one for the the sigmoid-based mean square error loss."
      ]
    },
    {
      "cell_type": "markdown",
      "metadata": {
        "id": "tWUnoBqkKg9K"
      },
      "source": [
        "# try more compression\n",
        "\n",
        "Now we shrink the bottle neck to 16 neurons: a much more ambitions model!"
      ]
    },
    {
      "cell_type": "code",
      "metadata": {
        "id": "IXbjHrYSfwIP"
      },
      "source": [
        "model_digits = Sequential()\n",
        "#encoder...\n",
        "#bottle neck\n",
        "model_digits.add(Dense(16, activation='relu'))\n",
        "#decoder...\n",
        "model_digits.add(Dense(ndim, activation='sigmoid'))\n"
      ],
      "execution_count": null,
      "outputs": []
    },
    {
      "cell_type": "code",
      "metadata": {
        "id": "K6lGMsQki6RC"
      },
      "source": [
        "model_digits.compile(optimizer=\"adadelta\", loss=\"binary_crossentropy\")"
      ],
      "execution_count": null,
      "outputs": []
    },
    {
      "cell_type": "code",
      "metadata": {
        "id": "6QXiwgL0kPsy"
      },
      "source": [
        "print(model_digits.summary())"
      ],
      "execution_count": null,
      "outputs": []
    },
    {
      "cell_type": "code",
      "metadata": {
        "id": "65mlyV5hj8Od"
      },
      "source": [
        "history = model_digits.fit(x_train, x_train, epochs=200, batch_size=100, verbose=1)"
      ],
      "execution_count": null,
      "outputs": []
    },
    {
      "cell_type": "code",
      "metadata": {
        "id": "nAbZDuXOlCZi"
      },
      "source": [
        "pl.plot(np.array(history.history['loss']))\n",
        "pl.yscale('log')\n",
        "pl.xscale('log')"
      ],
      "execution_count": null,
      "outputs": []
    },
    {
      "cell_type": "markdown",
      "metadata": {
        "id": "eNcw-N9EPxib"
      },
      "source": [
        "the loss fuction: once again it did not finish learning. "
      ]
    },
    {
      "cell_type": "code",
      "metadata": {
        "id": "31mTTaI4mCKw"
      },
      "source": [
        "output_image = model_digits.predict(x_test)\n",
        "\n",
        "for i in range(10):\n",
        "  compareinout(i, output_image, x_test)"
      ],
      "execution_count": null,
      "outputs": []
    },
    {
      "cell_type": "markdown",
      "metadata": {
        "id": "L_tHRpkkP1y8"
      },
      "source": [
        "The result is not bad! The decoder can recreate the image from only 16 numbers!"
      ]
    },
    {
      "cell_type": "markdown",
      "metadata": {
        "id": "CNcgMuEWd_m-"
      },
      "source": [
        "# Extract feature"
      ]
    },
    {
      "cell_type": "code",
      "metadata": {
        "id": "_MurxMKJz3EY"
      },
      "source": [
        "K.function?"
      ],
      "execution_count": 46,
      "outputs": []
    },
    {
      "cell_type": "code",
      "metadata": {
        "id": "yHA4zE6xmacQ",
        "colab": {
          "base_uri": "https://localhost:8080/",
          "height": 61
        },
        "outputId": "2274da62-c158-4786-ef3a-bf03590f3a68"
      },
      "source": [
        "from keras import backend as K\n",
        "# input placeholder\n",
        "inp = model_digits64.input                   \n",
        "# extract the bottle neck outputs\n",
        "outputs = model_digits64.layers[1].output     \n",
        "# create a function to evaluate the output of the bottle neck layer for a given input\n",
        "functors = K.function([inp], [outputs])    \n",
        "\n",
        "# Testing\n",
        "layer_outs = functors(x_test[:1])\n",
        "pl.imshow(layer_outs[0]);"
      ],
      "execution_count": 51,
      "outputs": [
        {
          "output_type": "display_data",
          "data": {
            "image/png": "[encoded data removed]",
            "text/plain": [
              "<Figure size 720x360 with 1 Axes>"
            ]
          },
          "metadata": {
            "tags": [],
            "needs_background": "light"
          }
        }
      ]
    },
    {
      "cell_type": "markdown",
      "metadata": {
        "id": "pR-aIb-XQQhY"
      },
      "source": [
        "This is the reducted representation of the first image in the test sample: a 16-values representation of the NxN pixel image"
      ]
    },
    {
      "cell_type": "code",
      "metadata": {
        "id": "QoT7vdpjWfk8"
      },
      "source": [
        "def compareinout_encoded(i, outim, testimg, initialshape=(28,28)):\n",
        "  fig = pl.figure(figsize(10,5))\n",
        "  ax = fig.add_subplot(131) \n",
        "  ax.imshow(testimg[i].reshape(initialshape) , cmap=\"bone\")\n",
        "  ax.get_xaxis().set_visible(False)\n",
        "  ax.get_yaxis().set_visible(False)\n",
        "  ax = fig.add_subplot(132)\n",
        "  pl.imshow(functors(testimg[i:i+1])[0])\n",
        "  pl.yticks([])\n",
        "  ax = fig.add_subplot(133) \n",
        "  ax.imshow(outim[i].reshape(initialshape) , cmap=\"bone\")\n",
        "  ax.get_xaxis().set_visible(False)\n",
        "  ax.get_yaxis().set_visible(False)\n"
      ],
      "execution_count": 52,
      "outputs": []
    },
    {
      "cell_type": "code",
      "metadata": {
        "id": "hQwR8-hV052L"
      },
      "source": [
        "output_image= model_digits64.predict(x_test)"
      ],
      "execution_count": 53,
      "outputs": []
    },
    {
      "cell_type": "code",
      "metadata": {
        "id": "HvFp8cTbcdKa",
        "colab": {
          "base_uri": "https://localhost:8080/",
          "height": 1000
        },
        "outputId": "f2a3542b-ecee-44de-e3c0-281496791ebf"
      },
      "source": [
        "for i in range(10):\n",
        "  compareinout_encoded(i, output_image, x_test)"
      ],
      "execution_count": 54,
      "outputs": [
        {
          "output_type": "display_data",
          "data": {
            "image/png": "[encoded data removed]",
            "text/plain": [
              "<Figure size 720x360 with 3 Axes>"
            ]
          },
          "metadata": {
            "tags": [],
            "needs_background": "light"
          }
        },
        {
          "output_type": "display_data",
          "data": {
            "image/png": "[encoded data removed]",
            "text/plain": [
              "<Figure size 720x360 with 3 Axes>"
            ]
          },
          "metadata": {
            "tags": [],
            "needs_background": "light"
          }
        },
        {
          "output_type": "display_data",
          "data": {
            "image/png": "[encoded data removed]",
            "text/plain": [
              "<Figure size 720x360 with 3 Axes>"
            ]
          },
          "metadata": {
            "tags": [],
            "needs_background": "light"
          }
        },
        {
          "output_type": "display_data",
          "data": {
            "image/png": "[encoded data removed]",
            "text/plain": [
              "<Figure size 720x360 with 3 Axes>"
            ]
          },
          "metadata": {
            "tags": [],
            "needs_background": "light"
          }
        },
        {
          "output_type": "display_data",
          "data": {
            "image/png": "[encoded data removed]",
            "text/plain": [
              "<Figure size 720x360 with 3 Axes>"
            ]
          },
          "metadata": {
            "tags": [],
            "needs_background": "light"
          }
        },
        {
          "output_type": "display_data",
          "data": {
            "image/png": "[encoded data removed]",
            "text/plain": [
              "<Figure size 720x360 with 3 Axes>"
            ]
          },
          "metadata": {
            "tags": [],
            "needs_background": "light"
          }
        },
        {
          "output_type": "display_data",
          "data": {
            "image/png": "[encoded data removed]",
            "text/plain": [
              "<Figure size 720x360 with 3 Axes>"
            ]
          },
          "metadata": {
            "tags": [],
            "needs_background": "light"
          }
        },
        {
          "output_type": "display_data",
          "data": {
            "image/png": "[encoded data removed]",
            "text/plain": [
              "<Figure size 720x360 with 3 Axes>"
            ]
          },
          "metadata": {
            "tags": [],
            "needs_background": "light"
          }
        },
        {
          "output_type": "display_data",
          "data": {
            "image/png": "[encoded data removed]",
            "text/plain": [
              "<Figure size 720x360 with 3 Axes>"
            ]
          },
          "metadata": {
            "tags": [],
            "needs_background": "light"
          }
        },
        {
          "output_type": "display_data",
          "data": {
            "image/png": "[encoded data removed]",
            "text/plain": [
              "<Figure size 720x360 with 3 Axes>"
            ]
          },
          "metadata": {
            "tags": [],
            "needs_background": "light"
          }
        }
      ]
    },
    {
      "cell_type": "markdown",
      "metadata": {
        "id": "ivBrwoxqddZv"
      },
      "source": [
        "*left*: original image\n",
        "\n",
        "*center*: compressed representation\n",
        "\n",
        "right: predicted image"
      ]
    },
    {
      "cell_type": "code",
      "metadata": {
        "id": "GODceYH0DzfK"
      },
      "source": [
        ""
      ],
      "execution_count": null,
      "outputs": []
    }
  ]
}