{
  "nbformat": 4,
  "nbformat_minor": 0,
  "metadata": {
    "colab": {
      "name": "pyBootParma.ipynb",
      "provenance": [],
      "authorship_tag": "ABX9TyPA9aiiOcAOmrrEVbMHqtUj",
      "include_colab_link": true
    },
    "kernelspec": {
      "name": "python3",
      "display_name": "Python 3"
    }
  },
  "cells": [
    {
      "cell_type": "markdown",
      "metadata": {
        "id": "view-in-github",
        "colab_type": "text"
      },
      "source": [
        "<a href=\"https://colab.research.google.com/github/ElenaPocaterra/gittest_ePocaterra/blob/main/pyBootParma.ipynb\" target=\"_parent\"><img src=\"https://colab.research.google.com/assets/colab-badge.svg\" alt=\"Open In Colab\"/></a>"
      ]
    },
    {
      "cell_type": "code",
      "metadata": {
        "colab": {
          "base_uri": "https://localhost:8080/"
        },
        "id": "zUqv-19PdvUZ",
        "outputId": "e1c1b4bf-4c9d-4c65-a586-bd25b3a5d7c6"
      },
      "source": [
        "print(\"hello!\")"
      ],
      "execution_count": 1,
      "outputs": [
        {
          "output_type": "stream",
          "text": [
            "hello!\n"
          ],
          "name": "stdout"
        }
      ]
    },
    {
      "cell_type": "code",
      "metadata": {
        "id": "QIqjZuhSfk0V"
      },
      "source": [
        "from __future__ import print_function, division"
      ],
      "execution_count": null,
      "outputs": []
    },
    {
      "cell_type": "code",
      "metadata": {
        "id": "WVk2DnnUgCdj"
      },
      "source": [
        "stringVariable= \"hello\""
      ],
      "execution_count": 29,
      "outputs": []
    },
    {
      "cell_type": "code",
      "metadata": {
        "colab": {
          "base_uri": "https://localhost:8080/"
        },
        "id": "a6txZg5khqdf",
        "outputId": "abb597ba-c30f-4b59-b528-d744dad71a31"
      },
      "source": [
        "print (stringVariable)"
      ],
      "execution_count": null,
      "outputs": [
        {
          "output_type": "stream",
          "text": [
            "hello\n"
          ],
          "name": "stdout"
        }
      ]
    },
    {
      "cell_type": "code",
      "metadata": {
        "id": "1Zo61kX1hy5E"
      },
      "source": [
        "intVariable = 3"
      ],
      "execution_count": 24,
      "outputs": []
    },
    {
      "cell_type": "code",
      "metadata": {
        "colab": {
          "base_uri": "https://localhost:8080/"
        },
        "id": "NVtKdcwniW4R",
        "outputId": "b1cc05c1-3c90-4aeb-d3cb-d600db7772d4"
      },
      "source": [
        "type(intVariable)"
      ],
      "execution_count": 25,
      "outputs": [
        {
          "output_type": "execute_result",
          "data": {
            "text/plain": [
              "int"
            ]
          },
          "metadata": {
            "tags": []
          },
          "execution_count": 25
        }
      ]
    },
    {
      "cell_type": "code",
      "metadata": {
        "colab": {
          "base_uri": "https://localhost:8080/"
        },
        "id": "qB2T7r5dibKu",
        "outputId": "0208f98d-68a2-41e9-99f7-8b752ecad33f"
      },
      "source": [
        "type(stringVariable)"
      ],
      "execution_count": null,
      "outputs": [
        {
          "output_type": "execute_result",
          "data": {
            "text/plain": [
              "str"
            ]
          },
          "metadata": {
            "tags": []
          },
          "execution_count": 14
        }
      ]
    },
    {
      "cell_type": "code",
      "metadata": {
        "id": "TK4VNBgTigS2"
      },
      "source": [
        "floatVariable = 3."
      ],
      "execution_count": 26,
      "outputs": []
    },
    {
      "cell_type": "code",
      "metadata": {
        "colab": {
          "base_uri": "https://localhost:8080/"
        },
        "id": "aL_WK7nRikCE",
        "outputId": "7ffd6589-1e5c-4800-c1de-6e675eb9f099"
      },
      "source": [
        "type(floatVariable)"
      ],
      "execution_count": null,
      "outputs": [
        {
          "output_type": "execute_result",
          "data": {
            "text/plain": [
              "float"
            ]
          },
          "metadata": {
            "tags": []
          },
          "execution_count": 18
        }
      ]
    },
    {
      "cell_type": "code",
      "metadata": {
        "colab": {
          "base_uri": "https://localhost:8080/"
        },
        "id": "9VbsBuL-iwVi",
        "outputId": "26d72523-d619-4142-af51-c3e63cf91b86"
      },
      "source": [
        "5*2"
      ],
      "execution_count": null,
      "outputs": [
        {
          "output_type": "execute_result",
          "data": {
            "text/plain": [
              "10"
            ]
          },
          "metadata": {
            "tags": []
          },
          "execution_count": 19
        }
      ]
    },
    {
      "cell_type": "code",
      "metadata": {
        "colab": {
          "base_uri": "https://localhost:8080/"
        },
        "id": "0Uc3jL0MXrEx",
        "outputId": "cd1bea5a-4c9d-4c73-d8cc-489ffb88982c"
      },
      "source": [
        "for a in range(10):\n",
        "    print(a)"
      ],
      "execution_count": 14,
      "outputs": [
        {
          "output_type": "stream",
          "text": [
            "0\n",
            "1\n",
            "2\n",
            "3\n",
            "4\n",
            "5\n",
            "6\n",
            "7\n",
            "8\n",
            "9\n"
          ],
          "name": "stdout"
        }
      ]
    },
    {
      "cell_type": "code",
      "metadata": {
        "colab": {
          "base_uri": "https://localhost:8080/"
        },
        "id": "0M73LoSFZ2bd",
        "outputId": "224df5bc-c33e-4a8a-b6cc-c2b1eb3e995e"
      },
      "source": [
        "myList = [0, 1, 2, \"hello\", 3.3]\n",
        "myList"
      ],
      "execution_count": 18,
      "outputs": [
        {
          "output_type": "execute_result",
          "data": {
            "text/plain": [
              "[0, 1, 2, 'hello', 3.3]"
            ]
          },
          "metadata": {
            "tags": []
          },
          "execution_count": 18
        }
      ]
    },
    {
      "cell_type": "code",
      "metadata": {
        "colab": {
          "base_uri": "https://localhost:8080/"
        },
        "id": "qJu4hQKCa1VV",
        "outputId": "f71c716c-a8dc-4c50-8e4d-60602ba46ad4"
      },
      "source": [
        "myList[0]"
      ],
      "execution_count": 19,
      "outputs": [
        {
          "output_type": "execute_result",
          "data": {
            "text/plain": [
              "0"
            ]
          },
          "metadata": {
            "tags": []
          },
          "execution_count": 19
        }
      ]
    },
    {
      "cell_type": "code",
      "metadata": {
        "colab": {
          "base_uri": "https://localhost:8080/"
        },
        "id": "dOXCzCJCbE4L",
        "outputId": "4e6ef03f-4cc7-42c9-892e-63951e7f35dc"
      },
      "source": [
        "myList[-1]"
      ],
      "execution_count": 20,
      "outputs": [
        {
          "output_type": "execute_result",
          "data": {
            "text/plain": [
              "3.3"
            ]
          },
          "metadata": {
            "tags": []
          },
          "execution_count": 20
        }
      ]
    },
    {
      "cell_type": "code",
      "metadata": {
        "colab": {
          "base_uri": "https://localhost:8080/"
        },
        "id": "REHoX3mTbR5D",
        "outputId": "612e9a73-a795-4952-9fc0-d46a3302325c"
      },
      "source": [
        "intVariable + floatVariable"
      ],
      "execution_count": 27,
      "outputs": [
        {
          "output_type": "execute_result",
          "data": {
            "text/plain": [
              "6.0"
            ]
          },
          "metadata": {
            "tags": []
          },
          "execution_count": 27
        }
      ]
    },
    {
      "cell_type": "code",
      "metadata": {
        "colab": {
          "base_uri": "https://localhost:8080/",
          "height": 37
        },
        "id": "GX7blnX5bh57",
        "outputId": "de383311-b845-4df8-a1a4-b380f2053edf"
      },
      "source": [
        "stringVariable + stringVariable"
      ],
      "execution_count": 30,
      "outputs": [
        {
          "output_type": "execute_result",
          "data": {
            "application/vnd.google.colaboratory.intrinsic+json": {
              "type": "string"
            },
            "text/plain": [
              "'hellohello'"
            ]
          },
          "metadata": {
            "tags": []
          },
          "execution_count": 30
        }
      ]
    },
    {
      "cell_type": "code",
      "metadata": {
        "colab": {
          "base_uri": "https://localhost:8080/"
        },
        "id": "AeEn8bs8brpi",
        "outputId": "b8cca555-5a14-4fe2-cfa4-800c18df6ab6"
      },
      "source": [
        "myList + myList"
      ],
      "execution_count": 32,
      "outputs": [
        {
          "output_type": "execute_result",
          "data": {
            "text/plain": [
              "[0, 1, 2, 'hello', 3.3, 0, 1, 2, 'hello', 3.3]"
            ]
          },
          "metadata": {
            "tags": []
          },
          "execution_count": 32
        }
      ]
    },
    {
      "cell_type": "code",
      "metadata": {
        "colab": {
          "base_uri": "https://localhost:8080/"
        },
        "id": "KvPPut9CcBFo",
        "outputId": "16e2cf25-cbc4-4487-8399-eec10a708eab"
      },
      "source": [
        "tmplist=[]\n",
        "for a in range(22):\n",
        " #print(a**2)\n",
        " tmplist.append(a**2)\n",
        "tmplist"
      ],
      "execution_count": 35,
      "outputs": [
        {
          "output_type": "execute_result",
          "data": {
            "text/plain": [
              "[0,\n",
              " 1,\n",
              " 4,\n",
              " 9,\n",
              " 16,\n",
              " 25,\n",
              " 36,\n",
              " 49,\n",
              " 64,\n",
              " 81,\n",
              " 100,\n",
              " 121,\n",
              " 144,\n",
              " 169,\n",
              " 196,\n",
              " 225,\n",
              " 256,\n",
              " 289,\n",
              " 324,\n",
              " 361,\n",
              " 400,\n",
              " 441]"
            ]
          },
          "metadata": {
            "tags": []
          },
          "execution_count": 35
        }
      ]
    },
    {
      "cell_type": "code",
      "metadata": {
        "id": "yrnxSoXKdj-2"
      },
      "source": [
        "dictVariable = {\"keyInt\": 0, \"keyFloat\": 0.3, \"keyString\": \"Im a string\", \"keyDict\": {} }"
      ],
      "execution_count": 38,
      "outputs": []
    },
    {
      "cell_type": "code",
      "metadata": {
        "colab": {
          "base_uri": "https://localhost:8080/"
        },
        "id": "7udrT7rXeNQq",
        "outputId": "8944dd03-8668-4157-9c3e-98f670b2162c"
      },
      "source": [
        "dictVariable"
      ],
      "execution_count": 39,
      "outputs": [
        {
          "output_type": "execute_result",
          "data": {
            "text/plain": [
              "{'keyDict': {}, 'keyFloat': 0.3, 'keyInt': 0, 'keyString': 'Im a string'}"
            ]
          },
          "metadata": {
            "tags": []
          },
          "execution_count": 39
        }
      ]
    },
    {
      "cell_type": "markdown",
      "metadata": {
        "id": "ZjdWsCv8eYcN"
      },
      "source": [
        "dictVariable[\"keyDict\"]['nested2'] = {}"
      ]
    },
    {
      "cell_type": "code",
      "metadata": {
        "id": "1qGwdR-betYi"
      },
      "source": [
        "dictVariable[\"keyDict\"]['nested2'] = {}"
      ],
      "execution_count": 41,
      "outputs": []
    },
    {
      "cell_type": "code",
      "metadata": {
        "colab": {
          "base_uri": "https://localhost:8080/"
        },
        "id": "rQcpYbYUeyC8",
        "outputId": "aa9c658e-4e28-4155-b27a-2f30c0c48047"
      },
      "source": [
        "dictVariable"
      ],
      "execution_count": 42,
      "outputs": [
        {
          "output_type": "execute_result",
          "data": {
            "text/plain": [
              "{'keyDict': {'nested2': {}},\n",
              " 'keyFloat': 0.3,\n",
              " 'keyInt': 0,\n",
              " 'keyString': 'Im a string'}"
            ]
          },
          "metadata": {
            "tags": []
          },
          "execution_count": 42
        }
      ]
    },
    {
      "cell_type": "code",
      "metadata": {
        "id": "AXpVq6g1e8rt"
      },
      "source": [
        "dictVariable[\"keyPicture\"] = \"Picture\""
      ],
      "execution_count": 44,
      "outputs": []
    },
    {
      "cell_type": "code",
      "metadata": {
        "colab": {
          "base_uri": "https://localhost:8080/"
        },
        "id": "ymGBpcb3fOCa",
        "outputId": "1f260e37-3e6f-477e-c451-2a26706900fd"
      },
      "source": [
        "dictVariable"
      ],
      "execution_count": 45,
      "outputs": [
        {
          "output_type": "execute_result",
          "data": {
            "text/plain": [
              "{'keyDict': {'nested2': {}},\n",
              " 'keyFloat': 0.3,\n",
              " 'keyInt': 0,\n",
              " 'keyPicture': 'Picture',\n",
              " 'keyString': 'Im a string'}"
            ]
          },
          "metadata": {
            "tags": []
          },
          "execution_count": 45
        }
      ]
    },
    {
      "cell_type": "markdown",
      "metadata": {
        "id": "JNuesGV2fVvK"
      },
      "source": [
        "non è dato l'ordine anche se io dopo posso ordinarlo."
      ]
    },
    {
      "cell_type": "code",
      "metadata": {
        "colab": {
          "base_uri": "https://localhost:8080/",
          "height": 37
        },
        "id": "om-HfeVWfbtG",
        "outputId": "dac50595-e275-4489-9893-c8b1b9f0de5a"
      },
      "source": [
        "stringVariable.capitalize()"
      ],
      "execution_count": 46,
      "outputs": [
        {
          "output_type": "execute_result",
          "data": {
            "application/vnd.google.colaboratory.intrinsic+json": {
              "type": "string"
            },
            "text/plain": [
              "'Hello'"
            ]
          },
          "metadata": {
            "tags": []
          },
          "execution_count": 46
        }
      ]
    },
    {
      "cell_type": "markdown",
      "metadata": {
        "id": "gUwfY5tZgFXq"
      },
      "source": [
        "non modifica l'oggetto in sè ma ti da una cosa modificata quando lo fai! vedi:"
      ]
    },
    {
      "cell_type": "code",
      "metadata": {
        "colab": {
          "base_uri": "https://localhost:8080/",
          "height": 37
        },
        "id": "p2MGsbS3gB3k",
        "outputId": "67aee190-099a-4f56-8afe-74c22495731d"
      },
      "source": [
        "stringVariable"
      ],
      "execution_count": 47,
      "outputs": [
        {
          "output_type": "execute_result",
          "data": {
            "application/vnd.google.colaboratory.intrinsic+json": {
              "type": "string"
            },
            "text/plain": [
              "'hello'"
            ]
          },
          "metadata": {
            "tags": []
          },
          "execution_count": 47
        }
      ]
    },
    {
      "cell_type": "code",
      "metadata": {
        "colab": {
          "base_uri": "https://localhost:8080/"
        },
        "id": "Poz_z92fgTgL",
        "outputId": "2be17d28-1bc2-43a9-e998-e59af24a5a1f"
      },
      "source": [
        "print(\"Hello 'you' \") #stringa in una stringa "
      ],
      "execution_count": 49,
      "outputs": [
        {
          "output_type": "stream",
          "text": [
            "Hello 'you' \n"
          ],
          "name": "stdout"
        }
      ]
    },
    {
      "cell_type": "code",
      "metadata": {
        "id": "ypYgibeCin7z"
      },
      "source": [
        "import numpy "
      ],
      "execution_count": 50,
      "outputs": []
    },
    {
      "cell_type": "code",
      "metadata": {
        "colab": {
          "base_uri": "https://localhost:8080/"
        },
        "id": "2d3fhUOYitG3",
        "outputId": "0b69188f-38d7-46a9-8d5d-247b9feb925e"
      },
      "source": [
        "numpy.abs(-3)"
      ],
      "execution_count": 51,
      "outputs": [
        {
          "output_type": "execute_result",
          "data": {
            "text/plain": [
              "3"
            ]
          },
          "metadata": {
            "tags": []
          },
          "execution_count": 51
        }
      ]
    },
    {
      "cell_type": "code",
      "metadata": {
        "id": "VOlBT8mMi_GV"
      },
      "source": [
        "import numpy as np"
      ],
      "execution_count": 53,
      "outputs": []
    },
    {
      "cell_type": "code",
      "metadata": {
        "id": "1pTU6-GQjD3h"
      },
      "source": [
        "from matplotlib import pylab as plt"
      ],
      "execution_count": 57,
      "outputs": []
    },
    {
      "cell_type": "code",
      "metadata": {
        "colab": {
          "base_uri": "https://localhost:8080/",
          "height": 265
        },
        "id": "RmfS5MiEjjK0",
        "outputId": "b6f30eb8-c24c-4883-e4d7-e81efe74b574"
      },
      "source": [
        "plt.plot(range(10), np.zeros(10));"
      ],
      "execution_count": 58,
      "outputs": [
        {
          "output_type": "display_data",
          "data": {
            "image/png": "[encoded data removed]",
            "text/plain": [
              "<Figure size 432x288 with 1 Axes>"
            ]
          },
          "metadata": {
            "tags": [],
            "needs_background": "light"
          }
        }
      ]
    },
    {
      "cell_type": "code",
      "metadata": {
        "colab": {
          "base_uri": "https://localhost:8080/"
        },
        "id": "ajUXjwgmkNiF",
        "outputId": "9e25ff13-958f-4434-bed9-9300d5ce76a0"
      },
      "source": [
        "abs(-10)"
      ],
      "execution_count": 59,
      "outputs": [
        {
          "output_type": "execute_result",
          "data": {
            "text/plain": [
              "10"
            ]
          },
          "metadata": {
            "tags": []
          },
          "execution_count": 59
        }
      ]
    },
    {
      "cell_type": "code",
      "metadata": {
        "colab": {
          "base_uri": "https://localhost:8080/"
        },
        "id": "Agq4NFWIk15a",
        "outputId": "739c1814-decc-43ea-d0a7-e5b5f2a43e09"
      },
      "source": [
        "np.uint8(255)"
      ],
      "execution_count": 60,
      "outputs": [
        {
          "output_type": "execute_result",
          "data": {
            "text/plain": [
              "255"
            ]
          },
          "metadata": {
            "tags": []
          },
          "execution_count": 60
        }
      ]
    },
    {
      "cell_type": "code",
      "metadata": {
        "colab": {
          "base_uri": "https://localhost:8080/"
        },
        "id": "X_0iul4ylVam",
        "outputId": "16d9dd54-ecd0-4f2e-fb9c-d77c6079d761"
      },
      "source": [
        "np.uint8(256)"
      ],
      "execution_count": 62,
      "outputs": [
        {
          "output_type": "execute_result",
          "data": {
            "text/plain": [
              "0"
            ]
          },
          "metadata": {
            "tags": []
          },
          "execution_count": 62
        }
      ]
    },
    {
      "cell_type": "code",
      "metadata": {
        "colab": {
          "base_uri": "https://localhost:8080/"
        },
        "id": "QFvjOVDVlbXJ",
        "outputId": "32457171-b512-4b66-d718-35e91dd1a669"
      },
      "source": [
        "np.int16(3)"
      ],
      "execution_count": 64,
      "outputs": [
        {
          "output_type": "execute_result",
          "data": {
            "text/plain": [
              "3"
            ]
          },
          "metadata": {
            "tags": []
          },
          "execution_count": 64
        }
      ]
    },
    {
      "cell_type": "code",
      "metadata": {
        "id": "X_JjLLinlhtf"
      },
      "source": [
        "npuint8 = np.uint8(256)"
      ],
      "execution_count": 66,
      "outputs": []
    },
    {
      "cell_type": "code",
      "metadata": {
        "colab": {
          "base_uri": "https://localhost:8080/"
        },
        "id": "a9BpDLVslsrB",
        "outputId": "0ad403c7-dacf-4b1d-a607-a10f40142846"
      },
      "source": [
        "npuint8.dtypet"
      ],
      "execution_count": 67,
      "outputs": [
        {
          "output_type": "execute_result",
          "data": {
            "text/plain": [
              "dtype('uint8')"
            ]
          },
          "metadata": {
            "tags": []
          },
          "execution_count": 67
        }
      ]
    },
    {
      "cell_type": "code",
      "metadata": {
        "colab": {
          "base_uri": "https://localhost:8080/"
        },
        "id": "5rVq2ZIGlyS8",
        "outputId": "176544d0-6bf6-47ac-e81f-07d60a2aea2e"
      },
      "source": [
        "type(npuint8)"
      ],
      "execution_count": 68,
      "outputs": [
        {
          "output_type": "execute_result",
          "data": {
            "text/plain": [
              "numpy.uint8"
            ]
          },
          "metadata": {
            "tags": []
          },
          "execution_count": 68
        }
      ]
    },
    {
      "cell_type": "code",
      "metadata": {
        "colab": {
          "base_uri": "https://localhost:8080/"
        },
        "id": "EaLcpdhMl6AW",
        "outputId": "30918796-b1c4-4fa0-f871-c4f656ed6d02"
      },
      "source": [
        "np.array([intVariable, floatVariable, 6])"
      ],
      "execution_count": 70,
      "outputs": [
        {
          "output_type": "execute_result",
          "data": {
            "text/plain": [
              "array([3., 3., 6.])"
            ]
          },
          "metadata": {
            "tags": []
          },
          "execution_count": 70
        }
      ]
    },
    {
      "cell_type": "markdown",
      "metadata": {
        "id": "lbrSTRw0mFbr"
      },
      "source": [
        "un array ha dentro cose tutte dello stesso tipo"
      ]
    },
    {
      "cell_type": "code",
      "metadata": {
        "colab": {
          "base_uri": "https://localhost:8080/"
        },
        "id": "hcrlvGsomdBk",
        "outputId": "937074ca-9c4c-46b0-d7ee-34735fb6eb03"
      },
      "source": [
        "np.array(myList[:-1])"
      ],
      "execution_count": 71,
      "outputs": [
        {
          "output_type": "execute_result",
          "data": {
            "text/plain": [
              "array(['0', '1', '2', 'hello'], dtype='<U21')"
            ]
          },
          "metadata": {
            "tags": []
          },
          "execution_count": 71
        }
      ]
    },
    {
      "cell_type": "code",
      "metadata": {
        "id": "HHIBZZ65mxKj"
      },
      "source": [
        "tmparray= np.zeros(75, int).dtype"
      ],
      "execution_count": 72,
      "outputs": []
    },
    {
      "cell_type": "code",
      "metadata": {
        "colab": {
          "base_uri": "https://localhost:8080/"
        },
        "id": "uo2Sl-agm8fj",
        "outputId": "c436914c-5af4-4048-c427-1b288ed3a1f6"
      },
      "source": [
        "myList[0:2] #significa up to 2, fino a 2-1=1"
      ],
      "execution_count": 73,
      "outputs": [
        {
          "output_type": "execute_result",
          "data": {
            "text/plain": [
              "[0, 1]"
            ]
          },
          "metadata": {
            "tags": []
          },
          "execution_count": 73
        }
      ]
    },
    {
      "cell_type": "code",
      "metadata": {
        "id": "lGWWCUaNnKWM"
      },
      "source": [
        "zerosarray =np.zeros(7,int)\n",
        "onesarray=np.ones(7,float)"
      ],
      "execution_count": 74,
      "outputs": []
    },
    {
      "cell_type": "code",
      "metadata": {
        "colab": {
          "base_uri": "https://localhost:8080/"
        },
        "id": "TmGUAiv1nw6o",
        "outputId": "af4f94aa-d88d-4103-cf75-999188985d6b"
      },
      "source": [
        "myList[0:2] + myList[0:1]"
      ],
      "execution_count": 75,
      "outputs": [
        {
          "output_type": "execute_result",
          "data": {
            "text/plain": [
              "[0, 1, 0]"
            ]
          },
          "metadata": {
            "tags": []
          },
          "execution_count": 75
        }
      ]
    },
    {
      "cell_type": "code",
      "metadata": {
        "colab": {
          "base_uri": "https://localhost:8080/"
        },
        "id": "rUdVjnjwn9Lj",
        "outputId": "a2c8f9d1-893f-418b-8135-faabbe7f46b1"
      },
      "source": [
        "np.arange(10.)"
      ],
      "execution_count": 76,
      "outputs": [
        {
          "output_type": "execute_result",
          "data": {
            "text/plain": [
              "array([0., 1., 2., 3., 4., 5., 6., 7., 8., 9.])"
            ]
          },
          "metadata": {
            "tags": []
          },
          "execution_count": 76
        }
      ]
    },
    {
      "cell_type": "code",
      "metadata": {
        "colab": {
          "base_uri": "https://localhost:8080/"
        },
        "id": "EnACO_lWoaWu",
        "outputId": "44d8fe08-1d0b-4bf4-8616-571349acd373"
      },
      "source": [
        "np.arange(5, 10.,2)"
      ],
      "execution_count": 77,
      "outputs": [
        {
          "output_type": "execute_result",
          "data": {
            "text/plain": [
              "array([5., 7., 9.])"
            ]
          },
          "metadata": {
            "tags": []
          },
          "execution_count": 77
        }
      ]
    },
    {
      "cell_type": "code",
      "metadata": {
        "colab": {
          "base_uri": "https://localhost:8080/"
        },
        "id": "mmuGDrJvojc8",
        "outputId": "3ec82e93-03f3-443d-9b94-cabb92aa5f82"
      },
      "source": [
        "np.random.rand(10, 20)"
      ],
      "execution_count": 79,
      "outputs": [
        {
          "output_type": "execute_result",
          "data": {
            "text/plain": [
              "array([[5.11372445e-01, 9.06603121e-01, 1.36215796e-01, 3.68890677e-02,\n",
              "        3.75191810e-01, 7.65824144e-01, 3.38662471e-01, 3.82963443e-01,\n",
              "        7.87232608e-01, 9.83928858e-01, 2.28160326e-01, 5.44508154e-01,\n",
              "        6.76069060e-01, 3.21994477e-01, 1.31189372e-01, 1.28197146e-01,\n",
              "        2.18386267e-01, 8.75141300e-01, 1.32811461e-01, 3.92529387e-01],\n",
              "       [5.96134152e-01, 3.77294613e-01, 3.24852572e-01, 6.75051988e-01,\n",
              "        7.81538576e-01, 5.34458529e-01, 2.12865348e-01, 7.13197890e-02,\n",
              "        2.40679707e-01, 7.53799900e-01, 7.24405929e-01, 8.30969468e-01,\n",
              "        4.51916972e-01, 8.10705165e-01, 1.57958168e-01, 7.33131005e-01,\n",
              "        2.09906674e-01, 2.83417726e-01, 3.25330692e-02, 9.28354923e-01],\n",
              "       [1.03074244e-01, 5.00415916e-01, 8.96363524e-01, 7.32180342e-02,\n",
              "        2.15759748e-01, 1.61343438e-02, 2.77636146e-01, 3.11892584e-01,\n",
              "        8.77408702e-01, 2.99302052e-01, 1.35982202e-01, 8.39103614e-01,\n",
              "        8.30231875e-01, 4.91408971e-01, 4.31947170e-01, 1.97552048e-01,\n",
              "        4.49760686e-01, 5.69444853e-01, 1.95619418e-01, 8.75588736e-01],\n",
              "       [7.39098723e-01, 4.07605394e-01, 5.01621747e-01, 2.48010656e-01,\n",
              "        4.59533041e-01, 3.75028323e-01, 6.03079498e-01, 1.78296633e-01,\n",
              "        6.44951723e-01, 8.18728695e-01, 9.88111236e-01, 6.11165127e-02,\n",
              "        6.00860871e-01, 6.09837659e-01, 1.43778134e-01, 4.74646833e-01,\n",
              "        5.24673749e-01, 5.72712609e-01, 8.48585549e-01, 3.69939803e-01],\n",
              "       [2.44213400e-01, 2.92591334e-01, 1.16600630e-01, 3.67449254e-01,\n",
              "        5.65822810e-01, 5.71852970e-01, 3.43992923e-01, 7.12533605e-01,\n",
              "        1.70808527e-01, 1.75348897e-01, 8.24910393e-01, 2.81779408e-01,\n",
              "        1.10340119e-01, 5.44663063e-01, 5.85766804e-01, 9.93248740e-01,\n",
              "        2.12669507e-01, 2.14645619e-01, 6.51823134e-01, 9.34223917e-02],\n",
              "       [6.81439412e-01, 3.44394231e-01, 2.77403342e-01, 5.68017575e-01,\n",
              "        2.84274844e-01, 9.27726506e-01, 2.39504208e-01, 3.46633574e-01,\n",
              "        7.70510497e-01, 3.16118434e-01, 7.40362403e-01, 6.78010614e-01,\n",
              "        3.53956375e-01, 8.30638472e-01, 2.10216395e-01, 7.01636792e-01,\n",
              "        6.87583496e-01, 3.65286199e-01, 8.19993177e-01, 9.38772220e-01],\n",
              "       [6.95933430e-01, 8.69670245e-01, 6.90460339e-01, 8.28449505e-01,\n",
              "        9.42327398e-01, 1.15411856e-01, 8.95390895e-02, 1.45950350e-03,\n",
              "        4.13064006e-02, 5.83535774e-02, 4.25146620e-01, 9.20394619e-01,\n",
              "        5.82313791e-01, 8.62114192e-02, 6.79640409e-01, 6.60199368e-01,\n",
              "        9.84134259e-01, 7.13966306e-04, 5.76731690e-01, 8.75544706e-01],\n",
              "       [5.87125897e-01, 7.16641697e-01, 1.47412407e-01, 7.70743096e-01,\n",
              "        1.66510757e-01, 4.72770745e-01, 8.17092337e-01, 1.86966499e-01,\n",
              "        9.03601287e-01, 9.59432469e-01, 4.02562192e-01, 1.39082127e-01,\n",
              "        6.97325597e-01, 7.45480496e-01, 4.59660319e-01, 3.47499870e-02,\n",
              "        2.86282588e-01, 4.71334910e-01, 5.94629552e-01, 7.66771462e-01],\n",
              "       [2.00436781e-01, 8.32996064e-02, 2.51868691e-01, 1.85178625e-01,\n",
              "        6.05897380e-01, 6.53410092e-01, 5.12644949e-01, 7.74224299e-01,\n",
              "        2.85958834e-01, 2.41028829e-01, 4.47433402e-02, 7.98329148e-01,\n",
              "        2.41957175e-01, 5.65386450e-01, 8.29257938e-01, 8.88551214e-01,\n",
              "        8.78129687e-01, 1.97481490e-01, 1.62082438e-01, 2.55637499e-01],\n",
              "       [9.41186553e-01, 8.89231221e-01, 6.09730718e-01, 4.01478942e-02,\n",
              "        9.62011437e-01, 7.50089418e-01, 5.55667355e-01, 5.34127631e-02,\n",
              "        3.46205142e-01, 7.30886546e-01, 7.12058668e-01, 7.83959757e-01,\n",
              "        5.55360384e-01, 3.37227340e-02, 8.69218785e-01, 1.89316421e-01,\n",
              "        2.29978403e-01, 1.26347153e-01, 6.93393553e-01, 2.34339699e-01]])"
            ]
          },
          "metadata": {
            "tags": []
          },
          "execution_count": 79
        }
      ]
    },
    {
      "cell_type": "code",
      "metadata": {
        "colab": {
          "base_uri": "https://localhost:8080/"
        },
        "id": "ciz6du6Fo4X3",
        "outputId": "719b5cc7-a92f-4872-fdea-445dbca2655c"
      },
      "source": [
        "np.arange(start=1, stop=10, step=3)"
      ],
      "execution_count": 80,
      "outputs": [
        {
          "output_type": "execute_result",
          "data": {
            "text/plain": [
              "array([1, 4, 7])"
            ]
          },
          "metadata": {
            "tags": []
          },
          "execution_count": 80
        }
      ]
    },
    {
      "cell_type": "code",
      "metadata": {
        "id": "-LPu39I8pASl"
      },
      "source": [
        "one1DArray = np.random.rand(10)\n",
        "one2DArray = np.random.rand(10, 20)"
      ],
      "execution_count": 83,
      "outputs": []
    },
    {
      "cell_type": "code",
      "metadata": {
        "colab": {
          "base_uri": "https://localhost:8080/"
        },
        "id": "-kZbkVCMpr9c",
        "outputId": "f723f38f-da79-4a12-d5cb-5f3867f199a1"
      },
      "source": [
        "one1DArray[1:3]"
      ],
      "execution_count": 84,
      "outputs": [
        {
          "output_type": "execute_result",
          "data": {
            "text/plain": [
              "array([0.54828538, 0.93498199])"
            ]
          },
          "metadata": {
            "tags": []
          },
          "execution_count": 84
        }
      ]
    },
    {
      "cell_type": "code",
      "metadata": {
        "colab": {
          "base_uri": "https://localhost:8080/"
        },
        "id": "Pl6kxqMmp9iN",
        "outputId": "a1ae5f2a-0845-484d-82e6-d28cd918fd05"
      },
      "source": [
        "one2DArray[1:3, 0]"
      ],
      "execution_count": 85,
      "outputs": [
        {
          "output_type": "execute_result",
          "data": {
            "text/plain": [
              "array([0.73691447, 0.62530668])"
            ]
          },
          "metadata": {
            "tags": []
          },
          "execution_count": 85
        }
      ]
    },
    {
      "cell_type": "code",
      "metadata": {
        "id": "79Mz2gguqBN-"
      },
      "source": [
        "def myFunction(a):\n",
        "  print(\"the variable you passed is\" , a)\n",
        "  return 1"
      ],
      "execution_count": 86,
      "outputs": []
    },
    {
      "cell_type": "code",
      "metadata": {
        "colab": {
          "base_uri": "https://localhost:8080/"
        },
        "id": "UMID2TA1qY-Q",
        "outputId": "1dd092bd-24bd-4a4e-ecf0-4759946dfdf0"
      },
      "source": [
        "myFunction(\"hello!\")"
      ],
      "execution_count": 87,
      "outputs": [
        {
          "output_type": "stream",
          "text": [
            "the variable you passed is hello!\n"
          ],
          "name": "stdout"
        },
        {
          "output_type": "execute_result",
          "data": {
            "text/plain": [
              "1"
            ]
          },
          "metadata": {
            "tags": []
          },
          "execution_count": 87
        }
      ]
    },
    {
      "cell_type": "code",
      "metadata": {
        "colab": {
          "base_uri": "https://localhost:8080/"
        },
        "id": "2PxorTYOqf62",
        "outputId": "c59b4298-3392-4fa2-aeeb-34e1fd6a0fc1"
      },
      "source": [
        "myFunction(intVariable)"
      ],
      "execution_count": 88,
      "outputs": [
        {
          "output_type": "stream",
          "text": [
            "the variable you passed is 3\n"
          ],
          "name": "stdout"
        },
        {
          "output_type": "execute_result",
          "data": {
            "text/plain": [
              "1"
            ]
          },
          "metadata": {
            "tags": []
          },
          "execution_count": 88
        }
      ]
    },
    {
      "cell_type": "code",
      "metadata": {
        "colab": {
          "base_uri": "https://localhost:8080/"
        },
        "id": "KLy1vAVrqlPK",
        "outputId": "267dba65-485c-400a-c708-29a77bee8f83"
      },
      "source": [
        "myList[::-1]"
      ],
      "execution_count": 89,
      "outputs": [
        {
          "output_type": "execute_result",
          "data": {
            "text/plain": [
              "[3.3, 'hello', 2, 1, 0]"
            ]
          },
          "metadata": {
            "tags": []
          },
          "execution_count": 89
        }
      ]
    },
    {
      "cell_type": "code",
      "metadata": {
        "id": "wU9UF6JDq6gC"
      },
      "source": [
        "def fzPalindromo(string):\n",
        "  d=len(string)\n",
        ">>> parte1 = string[1:d]\n",
        "    parte2 = string [d:]\n",
        ">>> \n"
      ],
      "execution_count": null,
      "outputs": []
    },
    {
      "cell_type": "code",
      "metadata": {
        "id": "-BsBOSnNrRw4"
      },
      "source": [
        "stringV= \"anna\""
      ],
      "execution_count": 91,
      "outputs": []
    },
    {
      "cell_type": "markdown",
      "metadata": {
        "id": "Avkw91eUt4RT"
      },
      "source": [
        "stringV == stringV[::-1]"
      ]
    },
    {
      "cell_type": "code",
      "metadata": {
        "colab": {
          "base_uri": "https://localhost:8080/"
        },
        "id": "N6lOUN2muBrQ",
        "outputId": "b2452f1b-bada-4b67-926c-fe6eb18df835"
      },
      "source": [
        "stringV == stringV[::-1]"
      ],
      "execution_count": 93,
      "outputs": [
        {
          "output_type": "execute_result",
          "data": {
            "text/plain": [
              "True"
            ]
          },
          "metadata": {
            "tags": []
          },
          "execution_count": 93
        }
      ]
    },
    {
      "cell_type": "code",
      "metadata": {
        "id": "grLF14Y1uZLg"
      },
      "source": [
        "stringV=\"Anna\""
      ],
      "execution_count": 95,
      "outputs": []
    },
    {
      "cell_type": "code",
      "metadata": {
        "colab": {
          "base_uri": "https://localhost:8080/"
        },
        "id": "mxqfcIwwuI53",
        "outputId": "d31f1fce-5e87-4e0b-e1d6-93dd6c71f84c"
      },
      "source": [
        "stringV.lower() == stringV[::-1].lower()"
      ],
      "execution_count": 96,
      "outputs": [
        {
          "output_type": "execute_result",
          "data": {
            "text/plain": [
              "True"
            ]
          },
          "metadata": {
            "tags": []
          },
          "execution_count": 96
        }
      ]
    },
    {
      "cell_type": "code",
      "metadata": {
        "id": "NKzyO5NSuuOL"
      },
      "source": [
        "stringV= \"radar\""
      ],
      "execution_count": 97,
      "outputs": []
    },
    {
      "cell_type": "code",
      "metadata": {
        "colab": {
          "base_uri": "https://localhost:8080/",
          "height": 37
        },
        "id": "kPvwIRwjuyga",
        "outputId": "918a778f-94fd-4f62-80d2-91f057e87aea"
      },
      "source": [
        "stringV[:int((len(stringV))/2 + 0.5)]"
      ],
      "execution_count": 98,
      "outputs": [
        {
          "output_type": "execute_result",
          "data": {
            "application/vnd.google.colaboratory.intrinsic+json": {
              "type": "string"
            },
            "text/plain": [
              "'rad'"
            ]
          },
          "metadata": {
            "tags": []
          },
          "execution_count": 98
        }
      ]
    },
    {
      "cell_type": "code",
      "metadata": {
        "colab": {
          "base_uri": "https://localhost:8080/"
        },
        "id": "y8WcMLuxvosY",
        "outputId": "b941e044-a1c1-4f51-d812-cb5eb8a3dc67"
      },
      "source": [
        "drive.mount(\"/content/drive\")"
      ],
      "execution_count": 101,
      "outputs": [
        {
          "output_type": "stream",
          "text": [
            "Mounted at /content/drive\n"
          ],
          "name": "stdout"
        }
      ]
    },
    {
      "cell_type": "code",
      "metadata": {
        "colab": {
          "base_uri": "https://localhost:8080/"
        },
        "id": "SLG4h5c6w1hW",
        "outputId": "edaa2abd-7d2c-4b75-e1f1-cda40f89f177"
      },
      "source": [
        "ls"
      ],
      "execution_count": 102,
      "outputs": [
        {
          "output_type": "stream",
          "text": [
            "\u001b[0m\u001b[01;34mdrive\u001b[0m/  \u001b[01;34msample_data\u001b[0m/\n"
          ],
          "name": "stdout"
        }
      ]
    },
    {
      "cell_type": "markdown",
      "metadata": {
        "id": "OclrN2NZw5ih"
      },
      "source": [
        "cd drive"
      ]
    },
    {
      "cell_type": "code",
      "metadata": {
        "colab": {
          "base_uri": "https://localhost:8080/"
        },
        "id": "RXF0vmQTxDDN",
        "outputId": "fe428d73-21fb-45ab-f019-8cd4b45f124e"
      },
      "source": [
        "ls"
      ],
      "execution_count": 107,
      "outputs": [
        {
          "output_type": "stream",
          "text": [
            "\u001b[0m\u001b[01;34m'Colab Notebooks'\u001b[0m/         \u001b[01;34mdocumenti\u001b[0m/   ispalindrome.py  \u001b[01;34m'UNI I ANNO'\u001b[0m/\n",
            "'Copia di Tiramisu.gdoc'   \u001b[01;34mELENA\u001b[0m/      \u001b[01;34m'Sardegna 2019'\u001b[0m/  \u001b[01;34m'UNI II ANNO'\u001b[0m/\n"
          ],
          "name": "stdout"
        }
      ]
    },
    {
      "cell_type": "code",
      "metadata": {
        "id": "KyIxQ5p_xsPm"
      },
      "source": [
        "import ispalindrome as ipl"
      ],
      "execution_count": 109,
      "outputs": []
    },
    {
      "cell_type": "code",
      "metadata": {
        "colab": {
          "base_uri": "https://localhost:8080/"
        },
        "id": "Lypz4Ifkyz_K",
        "outputId": "e8610c2d-475c-4cb4-cc03-2bf3d3e46c4c"
      },
      "source": [
        "ipl.lookForPal(\"Anna\")"
      ],
      "execution_count": 110,
      "outputs": [
        {
          "output_type": "stream",
          "text": [
            "Yes its a palindrome An\n"
          ],
          "name": "stdout"
        },
        {
          "output_type": "execute_result",
          "data": {
            "text/plain": [
              "1"
            ]
          },
          "metadata": {
            "tags": []
          },
          "execution_count": 110
        }
      ]
    }
  ]
}